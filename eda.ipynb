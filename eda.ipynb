{
 "cells": [
  {
   "cell_type": "markdown",
   "id": "d4e89ba4",
   "metadata": {},
   "source": [
    "# Project Settings"
   ]
  },
  {
   "cell_type": "markdown",
   "id": "3c727c7d-3128-4b9f-8af9-fd3f96faca89",
   "metadata": {},
   "source": [
    "## Import libraries"
   ]
  },
  {
   "cell_type": "code",
   "execution_count": null,
   "id": "e84710fe-ff52-45ac-be18-c9d4bea7f244",
   "metadata": {},
   "outputs": [],
   "source": [
    "import os\n",
    "import datetime as dt\n",
    "from operator import attrgetter\n",
    "\n",
    "import helpers\n",
    "\n",
    "# visualization\n",
    "import matplotlib.pyplot as plt\n",
    "# Optional - for dark them of graphs run the next line\n",
    "plt.style.use(\"dark_background\")\n",
    "\n",
    "import numpy as np\n",
    "import pandas as pd\n",
    "import plotly.express as px\n",
    "import plotly.figure_factory as ff\n",
    "import plotly.graph_objects as go\n",
    "import plotly.io as pio\n",
    "import seaborn as sns\n",
    "\n",
    "# to print all the outputs in the cell\n",
    "from IPython.core.interactiveshell import InteractiveShell\n",
    "InteractiveShell.ast_node_interactivity = \"all\"\n",
    "\n",
    "from scipy import stats\n",
    "from scipy.stats import mode\n",
    "\n",
    "# to show warnings only once:\n",
    "import warnings; warnings.filterwarnings(action='once')"
   ]
  },
  {
   "cell_type": "markdown",
   "id": "f97d87b0-5974-4dde-b813-beef1d9d4e2a",
   "metadata": {},
   "source": [
    "## Some additional settings"
   ]
  },
  {
   "cell_type": "code",
   "execution_count": null,
   "id": "35ee08e4-d066-4c42-a040-00ce37695664",
   "metadata": {
    "ExecuteTime": {
     "end_time": "2022-03-20T12:10:26.270688Z",
     "start_time": "2022-03-20T12:10:26.244808Z"
    }
   },
   "outputs": [],
   "source": [
    "# adjusting columns width & number of chars\n",
    "pd.set_option('display.width', 1200)\n",
    "pd.set_option('max_colwidth', 500)\n",
    "\n",
    "# set pandas max columns and rows to print\n",
    "pd.set_option('display.max_columns', 50)\n",
    "pd.set_option('display.max_rows', 50)\n",
    "\n",
    "# settings for Vizs\n",
    "large = 22\n",
    "med = 16\n",
    "small = 12\n",
    "params = {\n",
    "    'axes.titlesize': large,\n",
    "    'legend.fontsize': med,\n",
    "    'figure.figsize': (17, 10),\n",
    "    'axes.labelsize': med,\n",
    "    'axes.titlesize': med,\n",
    "    'xtick.labelsize': med,\n",
    "    'ytick.labelsize': med,\n",
    "    'figure.titlesize': large\n",
    "}\n",
    "plt.rcParams.update(params)\n",
    "sns.set_style(\"white\")\n",
    "%matplotlib inline"
   ]
  },
  {
   "cell_type": "code",
   "execution_count": null,
   "id": "2cd72f15-4519-456e-a564-19718d3ae803",
   "metadata": {},
   "outputs": [],
   "source": [
    "pio.templates.default = \"simple_white\"\n",
    "\n",
    "px.defaults.template = \"plotly_dark\"\n",
    "px.defaults.color_continuous_scale = px.colors.sequential.Blackbody\n",
    "px.defaults.width = 800\n",
    "px.defaults.height = 500\n",
    "color_discrete_sequence=px.colors.sequential.Oryel"
   ]
  },
  {
   "cell_type": "markdown",
   "id": "1a463096-4d37-4b83-a01e-f86381103545",
   "metadata": {},
   "source": [
    "## Download data"
   ]
  },
  {
   "cell_type": "code",
   "execution_count": null,
   "id": "94c81d74-3965-4647-ba66-a2ea3e92c8a4",
   "metadata": {
    "ExecuteTime": {
     "end_time": "2022-03-20T12:10:26.412683Z",
     "start_time": "2022-03-20T12:10:26.397683Z"
    }
   },
   "outputs": [],
   "source": [
    "source_dir = './data/processed/'\n",
    "\n",
    "# files to download:\n",
    "file_users = 'users_processed.csv'\n",
    "file_costs = 'costs_processed.csv'"
   ]
  },
  {
   "cell_type": "code",
   "execution_count": null,
   "id": "efebd220-6e50-4d3b-b564-5d0ed819a6af",
   "metadata": {},
   "outputs": [],
   "source": [
    "df_users = pd.read_csv(os.path.join(source_dir, file_users)\n",
    "                      #  ,nrows=500\n",
    "                       ,parse_dates=['session_start_ts', 'session_end_ts', 'buy_ts']\n",
    "                       ,dtype={'device': 'category', 'source_id': 'int'}\n",
    "                       )"
   ]
  },
  {
   "cell_type": "code",
   "execution_count": null,
   "id": "05940707-8cc9-4fc5-8f8a-00c035e1e414",
   "metadata": {},
   "outputs": [],
   "source": [
    "df_users.info()"
   ]
  },
  {
   "cell_type": "markdown",
   "id": "b98d6ccb-d431-48d3-af6a-a0c209073e9e",
   "metadata": {},
   "source": [
    "## Step 1. Add additional variables to the model of user dataset"
   ]
  },
  {
   "cell_type": "markdown",
   "id": "df679d72",
   "metadata": {},
   "source": [
    "### Variables based on visits, registrations, and buying activities"
   ]
  },
  {
   "cell_type": "markdown",
   "id": "e7d3b8f8",
   "metadata": {},
   "source": [
    "*Add `first_session_ts`, and `first_visit_date`*\n",
    "\n",
    "*Let's assume that the first `session_start_ts` is the first user's visit and registration datetime*"
   ]
  },
  {
   "cell_type": "code",
   "execution_count": null,
   "id": "301aeae2-b4f5-4fad-93e9-2d52f0720c11",
   "metadata": {},
   "outputs": [],
   "source": [
    "_users = df_users.groupby('uid')['session_start_ts'].agg(['min']).reset_index()\n",
    "_users.columns = ['uid', 'first_session_ts']"
   ]
  },
  {
   "cell_type": "code",
   "execution_count": null,
   "id": "618b17bf",
   "metadata": {},
   "outputs": [],
   "source": [
    "df_users = df_users.merge(_users, how='left', on='uid')"
   ]
  },
  {
   "cell_type": "markdown",
   "id": "19537305",
   "metadata": {},
   "source": [
    "*Add visit date  of `session_start_ts` and the first visit date based on the `first_session_ts`*"
   ]
  },
  {
   "cell_type": "code",
   "execution_count": null,
   "id": "b12195d3",
   "metadata": {},
   "outputs": [],
   "source": [
    "df_users['visit_date'] = helpers.get_day(df_users, 'session_start_ts')\n",
    "df_users['first_visit_date'] = helpers.get_day(df_users, 'first_session_ts')"
   ]
  },
  {
   "cell_type": "markdown",
   "id": "1170489c",
   "metadata": {},
   "source": [
    "*Add `first_purchase_date` and virables based on it*"
   ]
  },
  {
   "cell_type": "code",
   "execution_count": null,
   "id": "29e4bd40",
   "metadata": {},
   "outputs": [],
   "source": [
    "_buyers = df_users.groupby('uid')['buy_ts'].agg(['min']).reset_index()\n",
    "_buyers.columns = ['uid', 'first_buy_ts']"
   ]
  },
  {
   "cell_type": "code",
   "execution_count": null,
   "id": "64d5bb88",
   "metadata": {},
   "outputs": [],
   "source": [
    "df_users = df_users.merge(_buyers, how='left', on='uid')"
   ]
  },
  {
   "cell_type": "code",
   "execution_count": null,
   "id": "fee30ab0",
   "metadata": {},
   "outputs": [],
   "source": [
    "df_users['order_date'] = helpers.get_day(df_users, 'buy_ts')\n",
    "df_users['first_order_date'] = helpers.get_day(df_users, 'first_buy_ts')"
   ]
  },
  {
   "cell_type": "markdown",
   "id": "6be0c63b",
   "metadata": {},
   "source": [
    "### Add indicators (flags) based on the visits, first purchases"
   ]
  },
  {
   "cell_type": "code",
   "execution_count": null,
   "id": "0fc8ef47",
   "metadata": {},
   "outputs": [],
   "source": [
    "df_users['is_new_user'] = (df_users['first_session_ts'] == df_users['session_start_ts']) * 1\n",
    "df_users['is_new_buyer'] = (df_users['first_buy_ts'] == df_users['buy_ts']) * 1\n",
    "df_users['is_bought'] = ~df_users['buy_ts'].isna() * 1"
   ]
  },
  {
   "cell_type": "markdown",
   "id": "95461c06",
   "metadata": {},
   "source": [
    "*Test Sample*"
   ]
  },
  {
   "cell_type": "code",
   "execution_count": null,
   "id": "3e67638c",
   "metadata": {},
   "outputs": [],
   "source": [
    "df_users[df_users['uid'] == 618178059910673496].sort_values(by='session_start_ts')\n",
    "# df_users[df_users['uid'] == 6444568725642094739].sort_values(by='session_start_ts')"
   ]
  },
  {
   "cell_type": "markdown",
   "id": "e50fa189",
   "metadata": {},
   "source": [
    "### Variables based on session duration"
   ]
  },
  {
   "cell_type": "code",
   "execution_count": null,
   "id": "5fcba233",
   "metadata": {},
   "outputs": [],
   "source": [
    "df_users['session_duration_sec'].describe()\n",
    "\n",
    "df_users['session_duration_sec'].mode()"
   ]
  },
  {
   "cell_type": "code",
   "execution_count": null,
   "id": "f6faeb46",
   "metadata": {},
   "outputs": [],
   "source": [
    "# plt.rcParams['figure.facecolor'] = 'gray'\n",
    "plt.style.use('dark_background')\n",
    "# plt.style.use('fivethirtyeight')\n",
    "# plt.style.use('bmh')\n",
    "\n",
    "df_users['session_duration_sec'].hist()"
   ]
  },
  {
   "cell_type": "markdown",
   "id": "17fe9a8d",
   "metadata": {},
   "source": [
    "*Add baseline session duration categories of session duratioin*"
   ]
  },
  {
   "cell_type": "code",
   "execution_count": null,
   "id": "4f3ee6a5",
   "metadata": {},
   "outputs": [],
   "source": [
    "df_users['session_dur_category'] = pd.cut(df_users['session_duration_sec'], \n",
    "                                          bins=[0, 60.0, 240.0, 444.16, 660.0, float(\"inf\")], \n",
    "                                          right=False)\n",
    "\n",
    "df_users['session_category_name'] = pd.cut(df_users['session_duration_sec'], \n",
    "                                           bins=[0, 60.0, 240.0, 444.16, 660.0, float(\"inf\")], \n",
    "                                           right=False,\n",
    "                                           labels=['up to 1 minute', 'between 1 and 4 minutes', 'between 4 and 7.4 minutes', 'between 7.4 and 10 minutes', 'more than 10 minutes'])"
   ]
  },
  {
   "cell_type": "markdown",
   "id": "34f6cf2d",
   "metadata": {},
   "source": [
    "*Calculate the time difference between the first visit and the first purchase*"
   ]
  },
  {
   "cell_type": "code",
   "execution_count": null,
   "id": "10bab62c",
   "metadata": {},
   "outputs": [],
   "source": [
    "df_users['time_diff_1st_visit_1st_puchase_sec'] = helpers.time_diff(df_users['first_buy_ts'], df_users['first_session_ts'], 'seconds')\n",
    "df_users['time_diff_1st_visit_1st_puchase_sec'].hist()\n",
    "df_users['time_diff_1st_visit_1st_puchase_sec'].describe()"
   ]
  },
  {
   "cell_type": "code",
   "execution_count": null,
   "id": "d1b7ab9c",
   "metadata": {},
   "outputs": [],
   "source": [
    "df_users.sample(10)"
   ]
  },
  {
   "cell_type": "markdown",
   "id": "35cbf9fb",
   "metadata": {},
   "source": [
    "### Variables based on the revenue distribution"
   ]
  },
  {
   "cell_type": "code",
   "execution_count": null,
   "id": "314f1719",
   "metadata": {},
   "outputs": [],
   "source": [
    "df_users['revenue'].describe()\n",
    "df_users['revenue'].mode()\n",
    "\n",
    "df_users['revenue'].hist()"
   ]
  },
  {
   "cell_type": "code",
   "execution_count": null,
   "id": "0c5a4a18",
   "metadata": {},
   "outputs": [],
   "source": [
    "df_users[df_users['revenue']>0]['revenue'].describe()\n",
    "df_users[df_users['revenue']>0]['revenue'].mode()"
   ]
  },
  {
   "cell_type": "code",
   "execution_count": null,
   "id": "4030723d",
   "metadata": {},
   "outputs": [],
   "source": [
    "df_users[df_users['revenue']>0]['revenue'].hist()"
   ]
  },
  {
   "cell_type": "code",
   "execution_count": null,
   "id": "24ddd045",
   "metadata": {},
   "outputs": [],
   "source": [
    "df_users['revenue_mean'] = df_users['revenue'].mean().round(3)\n",
    "\n",
    "df_users['revenue_category'] = pd.cut(df_users['revenue'], \n",
    "                                          bins=[-float(\"inf\"), 0.0, 1.22, 1.83, 2.44, 4.28, float(\"inf\")], \n",
    "                                          right=True)\n"
   ]
  },
  {
   "cell_type": "code",
   "execution_count": null,
   "id": "40fd3f1a",
   "metadata": {},
   "outputs": [],
   "source": [
    "df_users[df_users['uid'] == 618178059910673496].sort_values(by='session_start_ts')"
   ]
  },
  {
   "cell_type": "markdown",
   "id": "7f0b59d5-3bf1-431c-a55b-951bb1320bdc",
   "metadata": {},
   "source": [
    "## Step 2. Make reports and calculate metrics.\n",
    "Plot graphs to display how these metrics differ for various devices and ad sources and how they change in time."
   ]
  },
  {
   "cell_type": "markdown",
   "id": "800801bf",
   "metadata": {},
   "source": [
    "### 2.1 Create analytical table based on user daily activities by aggregating the `df_users`"
   ]
  },
  {
   "cell_type": "code",
   "execution_count": null,
   "id": "ace889cd",
   "metadata": {},
   "outputs": [],
   "source": [
    "# list(df_users.columns)"
   ]
  },
  {
   "cell_type": "code",
   "execution_count": null,
   "id": "b2e13d09",
   "metadata": {},
   "outputs": [],
   "source": [
    "at_users_daily = df_users.groupby([\n",
    "    'visit_date'      \n",
    " ]).agg({\n",
    "    'uid' : 'nunique'\n",
    "    ,'session_start_ts': 'count'\n",
    "    ,'buy_ts': 'count'\n",
    "    ,'revenue': 'sum'\n",
    "    ,'session_duration_sec': 'sum'\n",
    "    ,'is_new_user': 'sum'    \n",
    "    ,'is_new_buyer': 'sum'\n",
    "    ,'is_bought': 'sum'  \n",
    "    ,'time_diff_1st_visit_1st_puchase_sec': 'mean'\n",
    "}).reset_index().sort_values(by=['visit_date'])"
   ]
  },
  {
   "cell_type": "code",
   "execution_count": null,
   "id": "71e56209",
   "metadata": {},
   "outputs": [],
   "source": [
    "at_users_daily.sample()"
   ]
  },
  {
   "cell_type": "code",
   "execution_count": null,
   "id": "3110cabd",
   "metadata": {},
   "outputs": [],
   "source": [
    "at_users_daily = at_users_daily.rename(columns={\n",
    "                    'uid': 'dau'\n",
    "                    ,'session_start_ts': 'sessions_count'\n",
    "                    ,'buy_ts': 'orders_count'\n",
    "                    ,'revenue': 'revenue_sum'\n",
    "                    ,'session_duration_sec': 'session_duration_sec_sum'\n",
    "                    ,'is_new_user': 'is_new_user_sum'\n",
    "                    ,'is_new_buyer': 'is_new_buyer_sum'\n",
    "                    ,'is_bought': 'n_buyers'\n",
    "                    ,'time_diff_1st_visit_1st_puchase_sec': 'diff_1st_visit_1st_purchase_mean_sec'\n",
    "                    }\n",
    "                      )\n"
   ]
  },
  {
   "cell_type": "code",
   "execution_count": null,
   "id": "958e6561",
   "metadata": {},
   "outputs": [],
   "source": [
    "at_users_daily.info()"
   ]
  },
  {
   "cell_type": "markdown",
   "id": "40c7f376",
   "metadata": {},
   "source": [
    "Test control data after merging"
   ]
  },
  {
   "cell_type": "code",
   "execution_count": null,
   "id": "805061ea",
   "metadata": {},
   "outputs": [],
   "source": [
    "df_users['revenue'].sum()\n",
    "at_users_daily['revenue_sum'].sum()\n",
    "\n",
    "df_users['session_start_ts'].count()\n",
    "at_users_daily['sessions_count'].sum()"
   ]
  },
  {
   "cell_type": "code",
   "execution_count": null,
   "id": "404de195",
   "metadata": {},
   "outputs": [],
   "source": [
    "at_users_daily['diff_1st_visit_1st_purchase_mean_sec'] = at_users_daily['diff_1st_visit_1st_purchase_mean_sec'].round(0)"
   ]
  },
  {
   "cell_type": "markdown",
   "id": "56285df8",
   "metadata": {},
   "source": [
    "*Add variables weekday, dayofweek, month and year based on the date*"
   ]
  },
  {
   "cell_type": "code",
   "execution_count": null,
   "id": "6cfea111",
   "metadata": {},
   "outputs": [],
   "source": [
    "at_users_daily['visit_weekday'] = at_users_daily['visit_date'].dt.day_name()\n",
    "at_users_daily['weekday_num'] = at_users_daily['visit_date'].dt.dayofweek\n",
    "\n",
    "at_users_daily['visit_week_num'] = at_users_daily['visit_date'].dt.isocalendar().week\n",
    "at_users_daily['week_start_monday'] = at_users_daily[\"visit_date\"].dt.to_period('W').dt.start_time\n",
    "\n",
    "at_users_daily['visit_month'] = helpers.get_month(at_users_daily['visit_date'])\n",
    "at_users_daily['visit_year'] = at_users_daily['visit_date'].dt.isocalendar().year"
   ]
  },
  {
   "cell_type": "code",
   "execution_count": null,
   "id": "17fdc019",
   "metadata": {},
   "outputs": [],
   "source": [
    "at_users_daily"
   ]
  },
  {
   "cell_type": "markdown",
   "id": "86fb1451",
   "metadata": {},
   "source": [
    "Add variables to analytical table"
   ]
  },
  {
   "cell_type": "code",
   "execution_count": null,
   "id": "c4fcef44",
   "metadata": {},
   "outputs": [],
   "source": [
    "at_users_daily['num_sessions_per_user_mean'] = (at_users_daily['sessions_count'] / at_users_daily['dau']).round(2)\n",
    "\n",
    "at_users_daily['num_orders_per_user_mean'] = (at_users_daily['orders_count'] / at_users_daily['dau']).round(2)"
   ]
  },
  {
   "cell_type": "code",
   "execution_count": null,
   "id": "17791003",
   "metadata": {},
   "outputs": [],
   "source": [
    "at_users_daily.head()"
   ]
  },
  {
   "cell_type": "markdown",
   "id": "2f962b3f-105b-4f5a-9bfc-699989fc139d",
   "metadata": {},
   "source": [
    "### 2.2 Product metrics"
   ]
  },
  {
   "cell_type": "markdown",
   "id": "4d5c8125-f444-41c9-98ed-562099185b5f",
   "metadata": {},
   "source": [
    "User engagement metric: DAU, WAU, MAU"
   ]
  },
  {
   "cell_type": "markdown",
   "id": "3e4974f6",
   "metadata": {},
   "source": [
    "`DAU - the number of daily active unique users`"
   ]
  },
  {
   "cell_type": "markdown",
   "id": "297a2803",
   "metadata": {},
   "source": [
    "`A mean DAU`"
   ]
  },
  {
   "cell_type": "code",
   "execution_count": null,
   "id": "89c6394e",
   "metadata": {},
   "outputs": [],
   "source": [
    "at_users_daily['dau'].mean().astype(int)"
   ]
  },
  {
   "cell_type": "code",
   "execution_count": null,
   "id": "3e51ecc7",
   "metadata": {},
   "outputs": [],
   "source": [
    "fig = px.line(\n",
    "              at_users_daily\n",
    "              ,x='visit_date'\n",
    "              ,y='dau'\n",
    "              ,title='DAU - the number of daily active unique users'\n",
    "              ,labels={\n",
    "                    'visit_date': ''\n",
    "                    ,'dau': ''\n",
    "              }\n",
    ")\n",
    "(fig.update_yaxes(showgrid=False).update_xaxes(showgrid=False)\n",
    " .update_traces(textangle=1, selector=dict(type='bar'), textfont_color='white'))"
   ]
  },
  {
   "cell_type": "markdown",
   "id": "53a8932a",
   "metadata": {},
   "source": [
    "`DAU vs New users`"
   ]
  },
  {
   "cell_type": "code",
   "execution_count": null,
   "id": "0a01ddc5",
   "metadata": {},
   "outputs": [],
   "source": [
    "fig = px.line(\n",
    "              at_users_daily\n",
    "              ,x='visit_date'\n",
    "              ,y=['dau', 'is_new_user_sum']\n",
    "              ,title='DAU vs New users'\n",
    "              ,labels={\n",
    "                    'visit_date': ''\n",
    "                    ,'dau': ''\n",
    "              }\n",
    ")\n",
    "(fig.update_yaxes(showgrid=False).update_xaxes(showgrid=False)\n",
    " .update_traces(textangle=1, selector=dict(type='bar'), textfont_color='white'))"
   ]
  },
  {
   "cell_type": "markdown",
   "id": "0fd04817-7c04-4b1b-b91f-f76f90639e8d",
   "metadata": {},
   "source": [
    "> DAU metric\n",
    "\n",
    "- As we can see from the DAU metric, the daily amount of visitors does not remain constant over the year\n",
    "- Average daily visits - **930** users.\n",
    "- In addition, the number of active (unique) users rose sharply on November 24, 2017, it was a Black Friday.\n",
    "- And visits suddenly and significantly decreased on March 31, 2018. It can be assumed that this happened for some external reasons. For example, the famous [football match \"Spartak Moscow\" - \"Tosnun\" was held on March 31, 2018].(https://www.eurosport.com/football/russian-premier-league/2017-2018/live-spartak-moscow-fc-tosno_mtc956622/live.shtml)\n",
    "- It also seems like there is a weekly sharp drop that depends on the day of the week."
   ]
  },
  {
   "cell_type": "markdown",
   "id": "8c7a8783-5483-43d0-adfd-70252be8f60e",
   "metadata": {},
   "source": [
    "`WAU - the number of weekly active unique users`"
   ]
  },
  {
   "cell_type": "code",
   "execution_count": null,
   "id": "15fff358",
   "metadata": {},
   "outputs": [],
   "source": [
    "\n",
    "df_users['visit_weekday'] = df_users['visit_date'].dt.day_name()\n",
    "df_users['weekday_num'] = df_users['visit_date'].dt.dayofweek\n",
    "\n",
    "df_users['visit_week_num'] = df_users['visit_date'].dt.isocalendar().week\n",
    "df_users['week_start_monday'] = df_users[\"visit_date\"].dt.to_period('W').dt.start_time\n",
    "\n",
    "df_users['visit_month'] = helpers.get_month(df_users['visit_date'])\n",
    "df_users['visit_year'] = df_users['visit_date'].dt.isocalendar().year"
   ]
  },
  {
   "cell_type": "code",
   "execution_count": null,
   "id": "2e3a9644",
   "metadata": {},
   "outputs": [],
   "source": [
    "wau = df_users.groupby('week_start_monday')['uid'].nunique().reset_index().rename(columns={'uid': 'wau'})\n",
    "wau['wau'].mean().astype(int)"
   ]
  },
  {
   "cell_type": "code",
   "execution_count": null,
   "id": "e2b9180a-be7f-4127-b80a-ac0c18d05085",
   "metadata": {},
   "outputs": [],
   "source": [
    "fig = px.bar(\n",
    "    wau\n",
    "    ,x='week_start_monday'\n",
    "    ,y='wau'\n",
    "    ,title='WAU - Weekly active users'\n",
    "    ,labels={'wau': ''\n",
    "             ,'week_start_monday': ''\n",
    "             }\n",
    "    # ,text='wau'\n",
    ")\n",
    "# fig.update_xaxes(showline=False, showgrid=False)\n",
    "fig.update_yaxes(showline=False, showgrid=False)"
   ]
  },
  {
   "cell_type": "code",
   "execution_count": null,
   "id": "eb4bd78d",
   "metadata": {},
   "outputs": [],
   "source": [
    "_visit_weekday = (df_users.groupby(['visit_year', 'week_start_monday','visit_weekday', 'weekday_num'])\n",
    "                  .agg({\n",
    "                      'uid': 'nunique'\n",
    "                      ,'session_start_ts': 'count'                      \n",
    "                  })\n",
    "                  .reset_index().rename(columns={'uid': 'nunique_users', 'session_start_ts': 'num_sessions'}).sort_values(by = ['weekday_num'])\n",
    "                  )\n",
    "_visit_weekday.head()                "
   ]
  },
  {
   "cell_type": "code",
   "execution_count": null,
   "id": "e29b9413",
   "metadata": {},
   "outputs": [],
   "source": [
    "fig = px.area(\n",
    "    _visit_weekday    \n",
    "    ,x='week_start_monday'\n",
    "    ,y='nunique_users'\n",
    "    ,title='WAU - Weekly active users by visit weekday'\n",
    "    ,labels={'nunique_users': ''\n",
    "             ,'visit_weekday': ''\n",
    "             ,'week_start_monday': ''\n",
    "             }\n",
    "    ,color='visit_weekday'\n",
    ")\n",
    "fig.update_yaxes(showgrid=False).update_xaxes(showgrid=False).update_traces(textangle=1, selector=dict(type='bar'), textfont_color='white')\n"
   ]
  },
  {
   "cell_type": "code",
   "execution_count": null,
   "id": "3576e59f",
   "metadata": {},
   "outputs": [],
   "source": [
    "_tmp_visit_weekday = (_visit_weekday.groupby(['visit_year', 'visit_weekday', 'weekday_num'])['nunique_users']\n",
    "                      .mean().reset_index().rename(columns={'nunique_users': 'nunique_users_mean'}).sort_values(by=['visit_year', 'weekday_num']) )\n",
    "_tmp_visit_weekday['nunique_users_mean'] = _tmp_visit_weekday['nunique_users_mean'].astype(int)\n",
    "_tmp_visit_weekday"
   ]
  },
  {
   "cell_type": "code",
   "execution_count": null,
   "id": "5c73b287",
   "metadata": {},
   "outputs": [],
   "source": [
    "fig = px.bar(\n",
    "    _tmp_visit_weekday\n",
    "    ,x='visit_weekday'\n",
    "    ,y='nunique_users_mean'\n",
    "    ,title='Mean of active users by visit weekday'\n",
    "    ,labels={'nunique_users_mean': ''\n",
    "             ,'visit_weekday': ''\n",
    "             ,'visit_year': ''\n",
    "             }\n",
    "    ,barmode=\"group\"\n",
    "    ,color='visit_year'\n",
    "    ,text='nunique_users_mean'\n",
    "    # ,color_discrete_sequence=px.colors.diverging.Spectral[-1::-2]\n",
    "\n",
    ")\n",
    "fig.update_yaxes(showgrid=False)\n",
    "\n",
    "# fig.show()"
   ]
  },
  {
   "cell_type": "markdown",
   "id": "b8757728-2178-4e36-8fbd-7817b1132acf",
   "metadata": {},
   "source": [
    "> WAU metric\n",
    " \n",
    "- An average weekly visits - 5807 users\n",
    "\n",
    "- User activities depend on the day of the week"
   ]
  },
  {
   "cell_type": "markdown",
   "id": "09549a1c-384a-44f6-8e79-9eef35a5ced8",
   "metadata": {},
   "source": [
    "`MAU - Monthly visits`"
   ]
  },
  {
   "cell_type": "code",
   "execution_count": null,
   "metadata": {},
   "outputs": [],
   "source": [
    "mau = df_users.groupby(['visit_year','visit_month'])['uid'].nunique().reset_index().rename(columns={'uid': 'mau'})\n",
    "mau['mau'].mean().astype(int)\n",
    "mau"
   ]
  },
  {
   "cell_type": "code",
   "execution_count": null,
   "id": "1c51f364",
   "metadata": {},
   "outputs": [],
   "source": [
    "fig = px.bar(\n",
    "    mau\n",
    "    ,x='visit_month'\n",
    "    ,y='mau'\n",
    "    ,title='MAU - Monthly active users'\n",
    "    ,labels={'dau': ''\n",
    "             ,'visit_month': ''\n",
    "             ,'visit_year': ''\n",
    "             }\n",
    "    ,text='mau'\n",
    "    ,color='visit_year'\n",
    ")\n",
    "fig.update_yaxes(showgrid=False).update_traces(textangle=1, selector=dict(type='bar'), textfont_color='white')\n",
    "# fig.show()"
   ]
  },
  {
   "cell_type": "markdown",
   "id": "7fdcbd98-03aa-4aaf-8df4-b0933e65cf00",
   "metadata": {},
   "source": [
    "*MAU - Average monthly visits - 23469 users.*"
   ]
  },
  {
   "cell_type": "markdown",
   "id": "efb750b7-8e0c-439b-bc18-cd77b3d69582",
   "metadata": {},
   "source": [
    ">**Conclusion**\n",
    "\n",
    "- Daily, weekly, and monthly user activities are 930, 5807, and 23469 respectively.\n",
    "\n",
    "- There are dependencies of user activity on the day of the week, and on the month of year.\n",
    "\n",
    "- Users were the most active on the 5 the day of the week, and in November and December.\n",
    "\n",
    "- Less active users were on weekend, as well as in summer months.\n",
    "\n",
    "- User visits are influenced by external factors such as international holidays and local events."
   ]
  },
  {
   "cell_type": "markdown",
   "id": "e0d0ea1d",
   "metadata": {},
   "source": [
    "`User stickiness` - `DAU/MAU/MAU Ratio`"
   ]
  },
  {
   "cell_type": "code",
   "execution_count": null,
   "id": "3f6c6a8e",
   "metadata": {},
   "outputs": [],
   "source": [
    "# DAU/WAU ratio\n",
    "\n",
    "(at_users_daily['dau'].mean() / wau['wau'].mean() * 100).round(2)\n",
    "\n",
    "# DAU/MAU ratio\n",
    "(at_users_daily['dau'].mean() / mau['mau'].mean() * 100).round(2)\n",
    "\n",
    "# WAU/MAU ratio\n",
    "(wau['wau'].mean() / mau['mau'].mean() * 100).round(2)"
   ]
  },
  {
   "cell_type": "markdown",
   "id": "cd7b1927",
   "metadata": {},
   "source": [
    "Selecting the Right User Metric:\n",
    "\n",
    "https://medium.com/sequoia-capital/selecting-the-right-user-metric-de95015aa38\n",
    "\n",
    "* One important point to remember is that the ratio of daily active users to weekly active users (DAU/WAU) can never be less than 1/7 (14.29%)\n",
    "* Additionally, the ratio of daily active users to monthly active users (DAU/MAU) can never be lower than 1/28 (35.71%) where MAU is calculated over 28 days. \n",
    "* Finally, the ratio of weekly active users to monthly active users (WAU/MAU) can never be below 1/4 (25%).* \n",
    "\n",
    "*If the DAU/WAU (daily active users/weekly active users) ratio is at least 60%, it indicates that the product is used more than four days per week, making it a daily usage product.*\n",
    "\n",
    "\n",
    "So, in our project we recommend that to monitor user activity on a monthly basis. \n",
    "\n",
    "However, business stakeholders are interested in the day-to-day activities of users. Thet's why we should create an analytical table on the daily base."
   ]
  },
  {
   "cell_type": "markdown",
   "id": "3b5bf84e-043b-4aeb-8776-eea70b57b1ca",
   "metadata": {},
   "source": [
    "#### 2.2 User's sessions"
   ]
  },
  {
   "cell_type": "markdown",
   "id": "c2bd9d6f",
   "metadata": {},
   "source": [
    "`How many sessions are there per day?`\n",
    "\n",
    "(One user might have more than one session.)"
   ]
  },
  {
   "cell_type": "code",
   "execution_count": null,
   "id": "774c8e1e",
   "metadata": {},
   "outputs": [],
   "source": [
    "at_users_daily['sessions_count'].mean().astype(int)"
   ]
  },
  {
   "cell_type": "code",
   "execution_count": null,
   "id": "3a8e046b-dda0-4c4a-a774-662c7d93cdf5",
   "metadata": {},
   "outputs": [],
   "source": [
    "fig = px.line(\n",
    "    at_users_daily\n",
    "    ,x='visit_date'\n",
    "    ,y='sessions_count'\n",
    "    ,title='Number of Daily user sessions'\n",
    "    ,labels={\n",
    "        'visit_date': ''\n",
    "        ,'sessions_count': ''\n",
    "    }\n",
    ")\n",
    "fig.update_yaxes(showgrid=False).update_xaxes(showgrid=False).update_traces(textangle=1, selector=dict(type='bar'), textfont_color='white')\n",
    "\n",
    "# fig.show()"
   ]
  },
  {
   "cell_type": "markdown",
   "id": "9d9ef213-268c-47c6-a2f8-f2b76f8d239e",
   "metadata": {},
   "source": [
    "> *The average number of sessions per day is 1027. It's clear that the total number of sessions increases with increasing users and vs.*"
   ]
  },
  {
   "cell_type": "markdown",
   "id": "499856b4-2137-4295-a78f-45738f5bbeb9",
   "metadata": {},
   "source": [
    "`The dynamics of total sessions per day vs the dynamics of DAU`"
   ]
  },
  {
   "cell_type": "code",
   "execution_count": null,
   "id": "46b8d9b8-f869-4288-b690-9431194e809e",
   "metadata": {},
   "outputs": [],
   "source": [
    "fig = px.line(\n",
    "    at_users_daily\n",
    "    ,x='visit_date'\n",
    "    ,y=['sessions_count', 'dau']\n",
    "    ,title='Number of daily user sessions vs DAU'\n",
    "    ,labels={\n",
    "        'visit_date': ''\n",
    "    }\n",
    ")\n",
    "fig.update_yaxes(showgrid=False).update_xaxes(showgrid=False).update_traces(textangle=1, selector=dict(type='bar'), textfont_color='white')\n",
    "\n",
    "# fig.show()"
   ]
  },
  {
   "cell_type": "markdown",
   "id": "7a3ecfe1-0d49-48b9-9dbd-8488032539b9",
   "metadata": {},
   "source": [
    "> *The line chart shows that the number of sessions per day is almost the same as the number of visits.*"
   ]
  },
  {
   "cell_type": "markdown",
   "id": "65264196",
   "metadata": {},
   "source": [
    "`Mean number of sessions per user`"
   ]
  },
  {
   "cell_type": "code",
   "execution_count": null,
   "id": "867a2d9d",
   "metadata": {},
   "outputs": [],
   "source": [
    "at_users_daily['num_sessions_per_user_mean'].mean().round(3)"
   ]
  },
  {
   "cell_type": "code",
   "execution_count": null,
   "id": "e0999d27",
   "metadata": {},
   "outputs": [],
   "source": [
    "fig = px.line(\n",
    "    at_users_daily\n",
    "    ,x='visit_date'\n",
    "    ,y='num_sessions_per_user_mean'\n",
    "    ,title='Daily average number of sessions per user'\n",
    "    ,labels={\n",
    "        'visit_date': ''\n",
    "        ,'num_sessions_per_user_mean': ''\n",
    "    }\n",
    ")\n",
    "fig.update_yaxes(showgrid=False).update_xaxes(showgrid=False).update_traces(textangle=1, selector=dict(type='bar'), textfont_color='white')\n",
    "# fig.update_yaxes(showgrid=False, rangemode=\"tozero\")"
   ]
  },
  {
   "cell_type": "markdown",
   "id": "66e30f26-328e-42e6-9fe3-c69b458bfb57",
   "metadata": {},
   "source": [
    ">*Average daily sessions per user - 1.097*\n",
    "\n",
    "The daily average number of sessions per user is from 1.03 to 1.27\n",
    "\n",
    "On March 28 in 2018 the average number of sessions per user equals 1"
   ]
  },
  {
   "cell_type": "markdown",
   "id": "1c7b6bb3",
   "metadata": {},
   "source": [
    "`Average number of sesions by weekday`"
   ]
  },
  {
   "cell_type": "code",
   "execution_count": null,
   "id": "8aabb2ee",
   "metadata": {},
   "outputs": [],
   "source": [
    "_tmp = at_users_daily.groupby(['visit_year', 'weekday_num'])['sessions_count'].mean().reset_index().sort_values(by=['visit_year','weekday_num'])\n",
    "_tmp['sessions_count'] = _tmp['sessions_count'].astype(int)\n",
    "_tmp.rename(columns = {'sessions_count': 'sessions_count_mean'}, inplace=True)"
   ]
  },
  {
   "cell_type": "code",
   "execution_count": null,
   "id": "ea479907",
   "metadata": {},
   "outputs": [],
   "source": [
    "fig = px.bar(\n",
    "    _tmp\n",
    "    ,x='weekday_num'\n",
    "    ,y='sessions_count_mean'\n",
    "    ,title='Average number of sessions by weekday'\n",
    "    ,labels={'weekday_num': ''\n",
    "             ,'visit_year': ''\n",
    "             ,'sessions_count_mean': ''\n",
    "             }\n",
    "    ,barmode=\"group\"\n",
    "    ,color='visit_year'\n",
    "    ,text='sessions_count_mean'\n",
    "    # ,color_discrete_sequence=px.colors.diverging.Spectral[-1::-2]\n",
    "\n",
    ")\n",
    "fig.update_yaxes(visible=False, showgrid=False).update_xaxes(showgrid=False).update_traces(textangle=1, selector=dict(type='bar'), textfont_color='white')\n",
    "\n",
    "# fig.show()"
   ]
  },
  {
   "cell_type": "markdown",
   "id": "343cf8e9-5ed1-4d23-adc3-9637a31769e3",
   "metadata": {},
   "source": [
    ">On weekends, the average number of sessions is less than on weekdays."
   ]
  },
  {
   "cell_type": "code",
   "execution_count": null,
   "id": "525236a9",
   "metadata": {},
   "outputs": [],
   "source": [
    "# list(at_users_daily.columns)\n",
    "at_users_daily['session_duration_sec_mean'] = (at_users_daily['session_duration_sec_sum'] / at_users_daily['sessions_count']).astype(int)"
   ]
  },
  {
   "cell_type": "code",
   "execution_count": null,
   "id": "7c4acce1",
   "metadata": {},
   "outputs": [],
   "source": [
    "at_users_daily.head()"
   ]
  },
  {
   "cell_type": "markdown",
   "id": "b67c85eb",
   "metadata": {},
   "source": [
    "`What is the average length of sessions per session per period?`"
   ]
  },
  {
   "cell_type": "code",
   "execution_count": null,
   "id": "72233883",
   "metadata": {},
   "outputs": [],
   "source": [
    "fig = px.line(\n",
    "    at_users_daily\n",
    "    ,x='visit_date'\n",
    "    ,y='session_duration_sec_mean'\n",
    "    ,title='Average length of sessions over time, seconds'\n",
    "    ,labels={'visit_date': ''\n",
    "             ,'session_duration_sec_mean': ''\n",
    "             }\n",
    "    ,color='visit_year'\n",
    ")\n",
    "(fig.update_yaxes(showgrid=False).update_xaxes(showgrid=False)\n",
    " .update_traces(textangle=1, selector=dict(type='bar'), textfont_color='white')\n",
    ")"
   ]
  },
  {
   "cell_type": "markdown",
   "id": "2a5ad592-6e17-4bad-b934-785d5fc83d94",
   "metadata": {},
   "source": [
    "`Number of sessions by device`"
   ]
  },
  {
   "cell_type": "code",
   "execution_count": null,
   "id": "a81c91f7-d4b6-4f59-80c5-a41c1b11b25a",
   "metadata": {},
   "outputs": [],
   "source": [
    "_sessions_by_device = df_users.groupby('device')['session_start_ts'].count().astype(int).reset_index()\n",
    "_sessions_by_device"
   ]
  },
  {
   "cell_type": "code",
   "execution_count": null,
   "id": "498bf925",
   "metadata": {},
   "outputs": [],
   "source": [
    "fig = px.bar(\n",
    "    _sessions_by_device\n",
    "    ,x='device'\n",
    "    ,y='session_start_ts'\n",
    "    ,title='Total number of sessions by device'\n",
    "    ,labels={\n",
    "        'device': ''\n",
    "        ,'session_start_ts': ''\n",
    "    }\n",
    "    ,text='session_start_ts'\n",
    ")\n",
    "fig.show()"
   ]
  },
  {
   "cell_type": "markdown",
   "id": "9664dc0c",
   "metadata": {},
   "source": [
    "`Average number of sessions and session duration by device over time`"
   ]
  },
  {
   "cell_type": "code",
   "execution_count": null,
   "id": "8711d4e9",
   "metadata": {},
   "outputs": [],
   "source": [
    "_sessions_by_device_over_time = (df_users.groupby(['visit_date', 'device'])\n",
    "                                 .agg({\n",
    "                                     'session_duration_sec': 'mean'\n",
    "                                     ,'session_start_ts': 'count'\n",
    "                                 }).reset_index().rename(columns={'session_start_ts': 'sessions_count'\n",
    "                                                                  ,'session_duration_sec': 'session_duration_sec_mean'})\n",
    "                              )\n",
    "_sessions_by_device_over_time['session_duration_sec_mean'] = _sessions_by_device_over_time['session_duration_sec_mean'].fillna(0).astype(int)\n"
   ]
  },
  {
   "cell_type": "code",
   "execution_count": null,
   "id": "ab09fa35",
   "metadata": {},
   "outputs": [],
   "source": [
    "_sessions_by_device_over_time.head()"
   ]
  },
  {
   "cell_type": "code",
   "execution_count": null,
   "id": "583b56eb",
   "metadata": {},
   "outputs": [],
   "source": [
    "fig = px.line(\n",
    "    _sessions_by_device_over_time\n",
    "    ,x='visit_date'\n",
    "    ,y='sessions_count'\n",
    "    ,title='Number of sessions by device over time'\n",
    "    ,labels={'visit_date': ''\n",
    "             ,'sessions_count': ''\n",
    "             }\n",
    "    ,color='device'\n",
    ")\n",
    "(fig.update_yaxes(showgrid=False).update_xaxes(showgrid=False)\n",
    " .update_traces(textangle=1, selector=dict(type='bar'), textfont_color='white')\n",
    ")"
   ]
  },
  {
   "cell_type": "markdown",
   "id": "ffdd92e6",
   "metadata": {},
   "source": [
    "`Average length of sessions by device over time, seconds`"
   ]
  },
  {
   "cell_type": "code",
   "execution_count": null,
   "id": "0a8db1c9",
   "metadata": {},
   "outputs": [],
   "source": [
    "fig = px.line(\n",
    "    _sessions_by_device_over_time\n",
    "    ,x='visit_date'\n",
    "    ,y='session_duration_sec_mean'\n",
    "    ,title='Average length of sessions by device over time, seconds'\n",
    "    ,labels={'visit_date': ''\n",
    "             ,'session_duration_sec_mean': ''\n",
    "             }\n",
    "    ,color='device'\n",
    ")\n",
    "(fig.update_yaxes(showgrid=False).update_xaxes(showgrid=False)\n",
    " .update_traces(textangle=1, selector=dict(type='bar'), textfont_color='white')\n",
    ")"
   ]
  },
  {
   "cell_type": "markdown",
   "id": "9e327fe4-17e2-4da0-80ec-4a1b24666aea",
   "metadata": {},
   "source": [
    "* The number of sessions in the \"browser\" is consistently higher compared to the \"mobile\" and \"unknown\" version.\n",
    "* In addition, it was noticeable that the sessions in the \"browser\" version lasted about 100 seconds longer than in the \"mobile\" version."
   ]
  },
  {
   "cell_type": "markdown",
   "id": "20953c23",
   "metadata": {},
   "source": [
    "`Number of sessions and unique users by session duration categoty name`"
   ]
  },
  {
   "cell_type": "code",
   "execution_count": null,
   "id": "06e1689d",
   "metadata": {},
   "outputs": [],
   "source": [
    "_session_category_name = df_users.groupby(['session_category_name']).agg({\n",
    "    'uid': 'nunique'\n",
    "    ,'session_start_ts': 'count'\n",
    "}).reset_index().rename(columns = {\n",
    "    'uid': 'nunique_users'\n",
    "    ,'session_start_ts': 'sessions_count'})\n",
    "_session_category_name"
   ]
  },
  {
   "cell_type": "code",
   "execution_count": null,
   "id": "e517dbc8",
   "metadata": {},
   "outputs": [],
   "source": [
    "fig = px.bar(\n",
    "    _session_category_name\n",
    "    ,x='session_category_name'\n",
    "    ,y=['sessions_count', 'nunique_users']\n",
    "    ,title='Number of session by number of unique users and session duration category name'\n",
    "    ,labels={'sessions_count': ''\n",
    "             ,'session_category_name': ''\n",
    "             ,\n",
    "             }\n",
    "    # ,text='sessions_count'\n",
    "    ,barmode='group'\n",
    ")\n",
    "(fig.update_yaxes(showgrid=False).update_xaxes(showgrid=False)\n",
    " .update_traces(textangle=1, selector=dict(type='bar'), textfont_color='white')\n",
    ")"
   ]
  },
  {
   "cell_type": "markdown",
   "id": "0b8a61ba-68b0-46c6-b2ca-15c358e17c96",
   "metadata": {},
   "source": [
    "`Average daily sessions by source_id`"
   ]
  },
  {
   "cell_type": "code",
   "execution_count": null,
   "id": "eb39db65",
   "metadata": {},
   "outputs": [],
   "source": [
    "_sessions_source_id = df_users.groupby(['source_id']).agg({\n",
    "   'session_duration_sec': 'mean'\n",
    "   ,'session_start_ts': 'count'\n",
    "}).reset_index().rename(columns={\n",
    "   'session_duration_sec': 'session_duration_sec_mean'\n",
    "   ,'session_start_ts': 'sessions_count'\n",
    "   }).sort_values(by='source_id')\n",
    "_sessions_source_id['session_duration_sec_mean'] = _sessions_source_id['session_duration_sec_mean'].astype(int)\n",
    "\n",
    "_sessions_source_id"
   ]
  },
  {
   "cell_type": "code",
   "execution_count": null,
   "id": "97d4881d",
   "metadata": {},
   "outputs": [],
   "source": [
    "fig = px.bar(\n",
    "    _sessions_source_id\n",
    "    ,x='source_id'\n",
    "    ,y='session_duration_sec_mean'\n",
    "    ,title='Average session duration by source Id, seconds'\n",
    "    ,labels={\n",
    "        'source_id': ''\n",
    "        ,'session_duration_sec_mean': ''\n",
    "    }\n",
    "    ,text='session_duration_sec_mean'\n",
    ")\n",
    "(fig.update_yaxes(showgrid=False).update_xaxes(showgrid=False)\n",
    " .update_traces(textangle=1, selector=dict(type='bar'), textfont_color='white')\n",
    ")"
   ]
  },
  {
   "cell_type": "code",
   "execution_count": null,
   "id": "0b92e1b0-e23b-4c95-ae61-d4b31e844c45",
   "metadata": {},
   "outputs": [],
   "source": [
    "fig = px.bar(\n",
    "    _sessions_source_id\n",
    "    ,x='source_id'\n",
    "    ,y='sessions_count'\n",
    "    ,title='Total Sessions by source Id'\n",
    "    ,labels={\n",
    "        'source_id': ''\n",
    "        ,'sessions_count': ''\n",
    "    }\n",
    "    ,text='sessions_count'\n",
    ")\n",
    "(fig.update_yaxes(showgrid=False).update_xaxes(showgrid=False)\n",
    " .update_traces(textangle=1, selector=dict(type='bar'), textfont_color='white')\n",
    ")"
   ]
  },
  {
   "cell_type": "markdown",
   "id": "697037fe-9b22-48b0-8e80-8cbb6f77bc28",
   "metadata": {},
   "source": [
    ">Conclusion:\n",
    "\n",
    "* The average number of sessions per day is 1076. And Average daily sessions per user - 1.097\n",
    "* Visitors prefer the `browser` version to the `mobile` version.\n",
    "* The amount of daily sessions differs depending on `source_id`.\n",
    "* International holidays and local events affect the number of daily sessions as well as user visits.\n",
    "* 4th and 3rd `source_id` have the most number of sessions for the entire period.\n",
    "* Average daily session duration of 1st and 3rd `source_id` is noticeably longer."
   ]
  },
  {
   "cell_type": "markdown",
   "id": "6c3dc423-3b5c-4472-8864-c62dff7879fe",
   "metadata": {},
   "source": [
    "#### 2.3 Cohorts & Retension\n",
    "\n",
    "How often do users come back?\n",
    "\n",
    "To answer this question we need to calculate the retention rate using cohort analysis. \n",
    "\n",
    "*We have data for a year, so it makes sense to build a cohort-based on monthly user activity.* "
   ]
  },
  {
   "cell_type": "markdown",
   "id": "69ce9a43",
   "metadata": {},
   "source": [
    "`Cohorts Lifetime` \n",
    "\n",
    "https://towardsdatascience.com/a-step-by-step-introduction-to-cohort-analysis-in-python-a2cbbd8460ea"
   ]
  },
  {
   "cell_type": "code",
   "execution_count": null,
   "id": "2287da73",
   "metadata": {},
   "outputs": [],
   "source": [
    "df_users['order_month'] = df_users['buy_ts'].dt.to_period('M')\n",
    "df_users['cohort_month'] = df_users.groupby('uid')['buy_ts'].transform('min').dt.to_period('M') "
   ]
  },
  {
   "cell_type": "code",
   "execution_count": null,
   "id": "f006f831",
   "metadata": {},
   "outputs": [],
   "source": [
    "df_users.sample(10)"
   ]
  },
  {
   "cell_type": "code",
   "execution_count": null,
   "id": "c0e0260e",
   "metadata": {},
   "outputs": [],
   "source": [
    "# df_users[df_users['uid'] == 17818797011639758931]"
   ]
  },
  {
   "cell_type": "code",
   "execution_count": null,
   "id": "8ccb5d92",
   "metadata": {},
   "outputs": [],
   "source": [
    "df_cohort = df_users.groupby(['cohort_month', 'order_month']) \\\n",
    "              .agg(n_users=('uid', 'nunique')) \\\n",
    "              .reset_index(drop=False)\n",
    "df_cohort['period_number'] = (df_cohort.order_month - df_cohort.cohort_month).apply(attrgetter('n'))"
   ]
  },
  {
   "cell_type": "code",
   "execution_count": null,
   "id": "b6f1c8a9",
   "metadata": {},
   "outputs": [],
   "source": [
    "df_cohort"
   ]
  },
  {
   "cell_type": "code",
   "execution_count": null,
   "id": "7dffbe27",
   "metadata": {},
   "outputs": [],
   "source": [
    "cohort_pivot = df_cohort.pivot_table(index = 'cohort_month',\n",
    "                                     columns = 'period_number',\n",
    "                                     values = 'n_users')"
   ]
  },
  {
   "cell_type": "code",
   "execution_count": null,
   "id": "21e53abd",
   "metadata": {},
   "outputs": [],
   "source": [
    "cohort_pivot"
   ]
  },
  {
   "cell_type": "code",
   "execution_count": null,
   "id": "5e26d17b",
   "metadata": {},
   "outputs": [],
   "source": [
    "\n",
    "with sns.axes_style(\"dark\"):\n",
    "    fig, ax = plt.subplots(1, 2, figsize=(12, 8), sharey=True, gridspec_kw={'width_ratios': [1, 11]})\n",
    "    \n",
    "    # retention matrix\n",
    "    sns.heatmap(cohort_pivot, \n",
    "                mask=cohort_pivot.isnull(), \n",
    "                annot=True, \n",
    "                # fmt='.0%', \n",
    "                cmap='RdYlGn', \n",
    "                ax=ax[1])\n",
    "    ax[1].set_title('Monthly Cohorts: User Buyers', fontsize=16)\n",
    "    ax[1].set(xlabel='# of periods',\n",
    "              ylabel='')\n",
    "\n",
    "    fig.tight_layout()"
   ]
  },
  {
   "cell_type": "code",
   "execution_count": null,
   "id": "a3d5d746",
   "metadata": {},
   "outputs": [],
   "source": [
    "plt.figure(figsize=(20, 13))\n",
    "plt.title('Cohorts: monthly active users from each cohort')\n",
    "sns.heatmap(cohort_pivot,\n",
    "            annot=True,\n",
    "            # fmt='.1%',\n",
    "            linewidths=1,\n",
    "            linecolor='gray')"
   ]
  },
  {
   "cell_type": "markdown",
   "id": "54f7afee",
   "metadata": {},
   "source": [
    "`Retention Rate calculation`\n",
    "\n",
    "To obtain the retention matrix, we need to divide the values each row by the row's first value, which is actually the cohort size — all customers who made their first purchase in the given month."
   ]
  },
  {
   "cell_type": "code",
   "execution_count": null,
   "id": "6a1e557b",
   "metadata": {},
   "outputs": [],
   "source": [
    "cohort_size = cohort_pivot.iloc[:,0]\n",
    "retention_matrix = cohort_pivot.divide(cohort_size, axis = 0).round(2)\n",
    "retention_matrix"
   ]
  },
  {
   "cell_type": "code",
   "execution_count": null,
   "id": "d3ad22c4",
   "metadata": {},
   "outputs": [],
   "source": [
    "with sns.axes_style(\"dark\"):\n",
    "    fig, ax = plt.subplots(1, 2, figsize=(12, 8), sharey=True, gridspec_kw={'width_ratios': [1, 11]})\n",
    "    \n",
    "    # retention matrix\n",
    "    sns.heatmap(retention_matrix, \n",
    "                mask=retention_matrix.isnull(), \n",
    "                annot=True, \n",
    "                fmt='.0%', \n",
    "                cmap='RdYlGn', \n",
    "                ax=ax[1])\n",
    "    ax[1].set_title('Monthly Cohorts: User Retention', fontsize=16)\n",
    "    ax[1].set(xlabel='# of periods',\n",
    "              ylabel='')\n",
    "\n",
    "    fig.tight_layout()"
   ]
  },
  {
   "cell_type": "markdown",
   "id": "7e33a85c-5e8b-4702-8691-3703e402ac7f",
   "metadata": {},
   "source": [
    ">***Conclusion:***\n",
    "- The first-month retention rate decreases for each new cohort.\n",
    "- The '09-2017' cohort has the highest retention rate.\n",
    "- In 2018, the retention rate is significantly lower than in 2017.\n",
    "- There was no retention in the '05-2018' cohort in the first month."
   ]
  },
  {
   "cell_type": "markdown",
   "id": "6f589847-949b-4a42-8435-b68549d39bd7",
   "metadata": {},
   "source": [
    "### 2.4 Sales"
   ]
  },
  {
   "cell_type": "markdown",
   "id": "19483de7-7b8c-4fc6-b625-79db8e560357",
   "metadata": {},
   "source": [
    " `When do people start buying?`\n",
    "\n",
    "Let' find the difference between `first_order_date` and `first_visits_date`"
   ]
  },
  {
   "cell_type": "code",
   "execution_count": null,
   "id": "0faef4ce-5281-4500-bf50-4a584152d268",
   "metadata": {},
   "outputs": [],
   "source": [
    "df_users['conversion_day'] = ((df_users['first_order_date'] - df_users['first_visit_date'])\n",
    "                              / np.timedelta64(1, 'D'))"
   ]
  },
  {
   "cell_type": "code",
   "execution_count": null,
   "id": "a2596747",
   "metadata": {},
   "outputs": [],
   "source": [
    "df_users['conversion_group'] = df_users['conversion_day'].apply(helpers.conversion_group)\n",
    "df_users[['conversion_group_name', 'conversion_group_id']] = pd.DataFrame(df_users['conversion_group'].tolist(), index=df_users.index)"
   ]
  },
  {
   "cell_type": "markdown",
   "id": "c065af26",
   "metadata": {},
   "source": [
    "`Conversion Rate`\n",
    "\n",
    "The conversion rate is the share of users who change their status during visit. So, let's calculate it:"
   ]
  },
  {
   "cell_type": "code",
   "execution_count": null,
   "id": "25f3ab0b",
   "metadata": {},
   "outputs": [],
   "source": [
    "_conversion_rate = (df_users.groupby(['conversion_group_name', 'conversion_group_id']).agg({\n",
    "                       'buy_ts': 'count'\n",
    "                       ,'session_start_ts': 'count'                       \n",
    "                   })\n",
    "                   .reset_index()\n",
    "                   .sort_values(by='conversion_group_id', ascending=True)\n",
    "                   .rename(columns={\n",
    "                       'uid': 'n_users'\n",
    "                       ,'session_start_ts': 'n_sessions'\n",
    "                       ,'buy_ts': 'n_orders'\n",
    "                       })\n",
    "                    )\n",
    "_conversion_rate['conversion_%'] = (_conversion_rate['n_orders'] / _conversion_rate['n_sessions'] * 100).round(2)\n",
    "\n",
    "_conversion_rate"
   ]
  },
  {
   "cell_type": "markdown",
   "id": "ec40a514",
   "metadata": {},
   "source": [
    "Why is the conversion rate so high?\n",
    "\n",
    "This occurs when a visitor’s conversion takes place on your landing page during a time period later than the time of their visit. In this particular case, our analytics will display the visit and the conversion with different timestamps and therefore, for a particular period of time, you will see a conversion rate of over 100%.\n",
    "\n",
    "https://help.instapage.com/hc/en-us/articles/115010682767-Why-is-my-conversion-rate-over-100-"
   ]
  },
  {
   "cell_type": "code",
   "execution_count": null,
   "id": "fee326d8",
   "metadata": {},
   "outputs": [],
   "source": [
    "fig = px.bar(\n",
    "    _conversion_rate\n",
    "    ,x='conversion_group_name'\n",
    "    ,y='conversion_%'\n",
    "    ,title='CR - Conversion Rate by categories, %'\n",
    "    ,labels={'conversion_%': ''\n",
    "             ,'conversion_group_name': ''\n",
    "             }\n",
    "    ,text='conversion_%'\n",
    ")\n",
    "# fig.update_xaxes(showline=False, showgrid=False)\n",
    "fig.update_yaxes(showline=False, showgrid=False)"
   ]
  },
  {
   "cell_type": "markdown",
   "id": "99a2cb59",
   "metadata": {},
   "source": [
    "`Conversion Rate over time`"
   ]
  },
  {
   "cell_type": "code",
   "execution_count": null,
   "id": "ebf75687",
   "metadata": {},
   "outputs": [],
   "source": [
    "at_users_daily['conversion_rate_%'] = (at_users_daily['orders_count'] / at_users_daily['sessions_count'] * 100).round(2)"
   ]
  },
  {
   "cell_type": "code",
   "execution_count": null,
   "id": "e799f5fa",
   "metadata": {},
   "outputs": [],
   "source": [
    "avg_daily_conversion_rate = at_users_daily['conversion_rate_%'].mean().round(2)\n",
    "avg_daily_conversion_rate"
   ]
  },
  {
   "cell_type": "code",
   "execution_count": null,
   "id": "f90c6591",
   "metadata": {},
   "outputs": [],
   "source": [
    "fig = px.line(\n",
    "    at_users_daily\n",
    "    ,x='visit_date'\n",
    "    ,y='conversion_rate_%'\n",
    "    ,title='Conversion rate % over time'\n",
    "    ,labels={\n",
    "        'visit_date': ''\n",
    "        ,'conversion_rate_%': ''\n",
    "    }\n",
    ")\n",
    "fig.add_hline(y=avg_daily_conversion_rate)\\\n",
    "    .update_yaxes(showgrid=False)\\\n",
    "    .update_xaxes(showgrid=False)\\\n",
    "        .update_traces(textangle=1, selector=dict(type='bar'), textfont_color='white')\n",
    "\n",
    "# fig.show()"
   ]
  },
  {
   "cell_type": "markdown",
   "id": "39d55150",
   "metadata": {},
   "source": [
    "`Average Convertion Rate by weekdays`"
   ]
  },
  {
   "cell_type": "code",
   "execution_count": null,
   "id": "efce7cf5",
   "metadata": {},
   "outputs": [],
   "source": [
    "_tmp_conversion_weekday = at_users_daily.groupby(['visit_year', 'visit_weekday', 'weekday_num'])\\\n",
    "    .agg({\n",
    "        'conversion_rate_%': 'mean'\n",
    "    })\\\n",
    "        .reset_index()\\\n",
    "            .rename(columns={'conversion_rate_%': 'conversion_rate_mean'})\\\n",
    "                .sort_values(by=['visit_year', 'weekday_num']) \n",
    "\n",
    "_tmp_conversion_weekday['conversion_rate_mean'] = _tmp_conversion_weekday['conversion_rate_mean'].round(2)\n",
    "_tmp_conversion_weekday"
   ]
  },
  {
   "cell_type": "code",
   "execution_count": null,
   "id": "059dc96a",
   "metadata": {},
   "outputs": [],
   "source": [
    "fig = px.bar(\n",
    "    _tmp_conversion_weekday\n",
    "    ,x='visit_weekday'\n",
    "    ,y='conversion_rate_mean'\n",
    "    ,title='Average Conversion Rate by weekday'\n",
    "    ,labels={\n",
    "        'visit_weekday': ''\n",
    "        ,'conversion_rate_mean': ''\n",
    "    }\n",
    "    ,color='visit_year'\n",
    "    ,barmode='group'\n",
    "    ,text='conversion_rate_mean'\n",
    ")\n",
    "fig.add_hline(y=avg_daily_conversion_rate)\\\n",
    "    .update_yaxes(showgrid=False)\\\n",
    "    .update_xaxes(showgrid=False)\\\n",
    "        .update_traces(textangle=1, selector=dict(type='bar'), textfont_color='white')"
   ]
  },
  {
   "cell_type": "markdown",
   "id": "a26d8bb1-ab5c-416c-80a7-d924acc000d0",
   "metadata": {},
   "source": [
    ">***Conclusion:***\n",
    "- Most often, users make their first purchase on the day of their first visit. The conversion on the first day of the user visit is almost 65%.\n",
    "- Over the next 7 days and 30 days, the conversion dropped sharply\n",
    "- 70.08% of visitors have never bought\n",
    "- The conversion rate is not significantly affected by weekdays\n",
    "- On Monday and Thursday the conversion rate drops below the average conversion.\n"
   ]
  },
  {
   "cell_type": "markdown",
   "id": "db0ab831",
   "metadata": {},
   "source": [
    "### 2.5 Orders"
   ]
  },
  {
   "cell_type": "markdown",
   "id": "fa0457d8",
   "metadata": {},
   "source": [
    "`Number of Orders vs DAU over time`"
   ]
  },
  {
   "cell_type": "code",
   "execution_count": null,
   "id": "1d87cdde",
   "metadata": {},
   "outputs": [],
   "source": [
    "fig = px.line(\n",
    "    at_users_daily\n",
    "    ,x='visit_date'\n",
    "    ,y=['orders_count', 'dau']\n",
    "    ,title='Number of orders vs DAU over time'\n",
    "    ,labels={\n",
    "        'visit_day': ''\n",
    "        ,'orders_count': ''\n",
    "    } \n",
    ")\n",
    "fig.update_yaxes(showgrid=False)\\\n",
    "    .update_xaxes(showgrid=False)\\\n",
    "        .update_traces(textangle=1, selector=dict(type='bar'), textfont_color='white')"
   ]
  },
  {
   "cell_type": "markdown",
   "id": "9b0e341f",
   "metadata": {},
   "source": [
    "`Average number of orders per user over time`"
   ]
  },
  {
   "cell_type": "code",
   "execution_count": null,
   "id": "cbde870e",
   "metadata": {},
   "outputs": [],
   "source": [
    "fig = px.line(\n",
    "    at_users_daily\n",
    "    ,x='visit_date'\n",
    "    ,y='num_orders_per_user_mean'\n",
    "    ,title='Average number of orders per user over time'\n",
    "    ,labels={\n",
    "        'visit_date': ''\n",
    "        ,'num_orders_per_user_mean': ''\n",
    "    }\n",
    " \n",
    ")\n",
    "fig.update_yaxes(showgrid=False)\\\n",
    "    .update_xaxes(showgrid=False)\\\n",
    "        .update_traces(textangle=1, selector=dict(type='bar'), textfont_color='white')"
   ]
  },
  {
   "cell_type": "markdown",
   "id": "c38fcd26",
   "metadata": {},
   "source": [
    "`Average number of orders by weekday`"
   ]
  },
  {
   "cell_type": "code",
   "execution_count": null,
   "id": "18f89e36",
   "metadata": {},
   "outputs": [],
   "source": [
    "_tmp_orders_weekday = at_users_daily.groupby(['visit_year', 'visit_weekday', 'weekday_num'])\\\n",
    "    .agg({\n",
    "        'orders_count': 'mean'\n",
    "    })\\\n",
    "        .reset_index()\\\n",
    "            .rename(columns={'orders_count': 'n_orders_mean'})\\\n",
    "                .sort_values(by=['visit_year', 'weekday_num']) \n",
    "\n",
    "_tmp_orders_weekday['n_orders_mean'] = _tmp_orders_weekday['n_orders_mean'].astype(int)\n",
    "_tmp_orders_weekday"
   ]
  },
  {
   "cell_type": "code",
   "execution_count": null,
   "id": "0c94328f",
   "metadata": {},
   "outputs": [],
   "source": [
    "fig = px.bar(\n",
    "    _tmp_orders_weekday\n",
    "    ,x='visit_weekday'\n",
    "    ,y='n_orders_mean'\n",
    "    ,title='Average number of orders by weekday'\n",
    "    ,labels={\n",
    "        'visit_weekday': ''\n",
    "        ,'n_orders_mean': ''\n",
    "    }\n",
    "    ,color='visit_year'\n",
    "    ,barmode='group'\n",
    "    ,text='n_orders_mean'\n",
    ")\n",
    "fig.update_yaxes(showgrid=False)\\\n",
    "    .update_xaxes(showgrid=False)\\\n",
    "        .update_traces(textangle=1, selector=dict(type='bar'), textfont_color='white')"
   ]
  },
  {
   "cell_type": "markdown",
   "id": "83f36859",
   "metadata": {},
   "source": [
    "`Number of orders by device over time`"
   ]
  },
  {
   "cell_type": "code",
   "execution_count": null,
   "id": "27167de8",
   "metadata": {},
   "outputs": [],
   "source": [
    "_orders_monthly_by_device = df_users.groupby(['visit_year', 'visit_month', 'device'])\\\n",
    "    .agg({\n",
    "        'uid': 'nunique'\n",
    "        ,'buy_ts': 'count'\n",
    "    })\\\n",
    "    .reset_index().rename(columns = {'uid': 'nunique_users', 'buy_ts': 'n_orders'})\n",
    "_orders_monthly_by_device"
   ]
  },
  {
   "cell_type": "code",
   "execution_count": null,
   "id": "59114b9f",
   "metadata": {},
   "outputs": [],
   "source": [
    "fig = px.bar(\n",
    "    _orders_monthly_by_device\n",
    "    ,x='visit_month'\n",
    "    ,y='n_orders'\n",
    "    ,title='Monthly number of orders by device'\n",
    "    ,labels={\n",
    "        'device': ''\n",
    "        ,'n_orders': ''\n",
    "        ,'visit_month': ''\n",
    "    }\n",
    "    ,color='device'\n",
    "    ,barmode='stack'\n",
    ")\n",
    "fig.update_yaxes(showgrid=False)\\\n",
    "    .update_xaxes(showgrid=False)\\\n",
    "        .update_traces(textangle=1, selector=dict(type='bar'), textfont_color='white')"
   ]
  },
  {
   "cell_type": "markdown",
   "id": "86f11d3d",
   "metadata": {},
   "source": [
    "`Average number of orders by source Id`"
   ]
  },
  {
   "cell_type": "code",
   "execution_count": null,
   "id": "dcaeead8",
   "metadata": {},
   "outputs": [],
   "source": [
    "_orders_monthly_by_sourse_id = df_users.groupby(['visit_year', 'visit_month', 'source_id'])\\\n",
    "    .agg({\n",
    "        'uid': 'nunique'\n",
    "        ,'buy_ts': 'count'\n",
    "    })\\\n",
    "    .reset_index().rename(columns = {'uid': 'nunique_users', 'buy_ts': 'n_orders'})\n",
    "_orders_monthly_by_sourse_id"
   ]
  },
  {
   "cell_type": "code",
   "execution_count": null,
   "id": "ee92f49a",
   "metadata": {},
   "outputs": [],
   "source": [
    "fig = px.area(\n",
    "    _orders_monthly_by_sourse_id\n",
    "    ,x='visit_month'\n",
    "    ,y='n_orders'\n",
    "    ,title='Monthly number of orders by device'\n",
    "    ,labels={\n",
    "        'source_id': ''\n",
    "        ,'n_orders': ''\n",
    "        ,'visit_month': ''\n",
    "    }\n",
    "    ,color='source_id'\n",
    "    # ,barmode='stack'\n",
    "    # ,text='n_orders_mean'\n",
    ")\n",
    "fig.update_yaxes(showgrid=False)\\\n",
    "    .update_xaxes(showgrid=False)\\\n",
    "        .update_traces(textangle=1, selector=dict(type='bar'), textfont_color='white')"
   ]
  },
  {
   "cell_type": "markdown",
   "id": "ba0af7b2",
   "metadata": {},
   "source": [
    "### 2.6 Create Monthly Analytical Table"
   ]
  },
  {
   "cell_type": "code",
   "execution_count": null,
   "id": "e35b0541",
   "metadata": {},
   "outputs": [],
   "source": [
    "# list(df_users.columns)"
   ]
  },
  {
   "cell_type": "code",
   "execution_count": null,
   "id": "c251f394",
   "metadata": {},
   "outputs": [],
   "source": [
    "at_users_monthly = df_users.groupby(['visit_year', 'visit_month'])\\\n",
    "    .agg({\n",
    "        'uid': 'nunique'\n",
    "        ,'session_start_ts': 'count'\n",
    "        ,'session_duration_sec': 'sum'\n",
    "        ,'buy_ts': 'count'\n",
    "        ,'is_new_user': 'sum'\n",
    "        ,'is_new_buyer': 'sum'\n",
    "        ,'revenue': 'sum'\n",
    "        \n",
    "    })\\\n",
    "        .reset_index()\\\n",
    "            .rename(columns={\n",
    "                'uid': 'mau'\n",
    "                ,'session_start_ts': 'sessions_count'\n",
    "                ,'session_duration_sec': 'sessions_duration_total_sec'\n",
    "                ,'buy_ts': 'orders_count'\n",
    "                ,'is_new_user': 'new_users'\n",
    "                ,'is_new_buyer': 'new_buyers'\n",
    "                ,'revenue': 'revenue_total'})\n",
    "at_users_monthly"
   ]
  },
  {
   "cell_type": "markdown",
   "id": "c958edb4",
   "metadata": {},
   "source": [
    "Add marketing metrics"
   ]
  },
  {
   "cell_type": "markdown",
   "id": "2ade8355",
   "metadata": {},
   "source": [
    "Add  `profit` and `profit_cum` variables to monthly analytical table\n",
    "\n",
    "*There is no margin information in the project description. But to complete the task, let's take into account the average sales margin of 50%*"
   ]
  },
  {
   "cell_type": "code",
   "execution_count": null,
   "id": "2de7bce2",
   "metadata": {},
   "outputs": [],
   "source": [
    "at_users_monthly['profit'] = (at_users_monthly['revenue_total'] * 0.5).round(2)\n",
    "at_users_monthly['profit_cum'] = at_users_monthly['profit'].cumsum()\n",
    "# at_users_monthly['profit_lag'] = at_users_monthly['profit'].shift(1)"
   ]
  },
  {
   "cell_type": "markdown",
   "id": "3b19f7a3",
   "metadata": {},
   "source": [
    "`Monthly Conversion Rate`"
   ]
  },
  {
   "cell_type": "code",
   "execution_count": null,
   "id": "ca8c8a11",
   "metadata": {},
   "outputs": [],
   "source": [
    "at_users_monthly['conversion_rate_%'] = (at_users_monthly['orders_count'] / at_users_monthly['sessions_count'] * 100).round(2)"
   ]
  },
  {
   "cell_type": "markdown",
   "id": "d8e4bf7e-40cd-40e1-aaf5-921897014cc4",
   "metadata": {},
   "source": [
    "`CLTV - Customer Lifetime Value Metrics`\n",
    "\n",
    "https://blog.hubspot.com/service/how-to-calculate-customer-lifetime-value\n",
    "\n",
    "- AOV - Average Order Value\n",
    "- AOFR - Average Order Frequency Rate\n",
    "- CV - Customer (User) Value\n",
    "- ACLS - Average Customer Lifespan\n",
    "- CLTV - Customer Lifetime Value - Customer Lifetime Value = (Customer Value * Average Customer Lifespan)"
   ]
  },
  {
   "cell_type": "code",
   "execution_count": null,
   "id": "b6e181e0",
   "metadata": {},
   "outputs": [],
   "source": [
    "at_users_monthly['avg_order_value'] = (at_users_monthly['revenue_total'] / at_users_monthly['orders_count'] ).round(2)\n",
    "at_users_monthly['avr_order_frequency_rate'] = (at_users_monthly['orders_count'] / at_users_monthly['mau'] ).round(2)\n",
    "at_users_monthly['customer_value'] = (at_users_monthly['avg_order_value'] * at_users_monthly['avr_order_frequency_rate'] ).round(2)\n",
    "at_users_monthly['avg_customer_lifetime_span'] = (at_users_monthly['revenue_total'] / at_users_monthly['mau'] ).round(2)\n",
    "at_users_monthly['avg_customer_ltv_cum'] = (at_users_monthly['customer_value'] * at_users_monthly['avg_customer_lifetime_span'] ).cumsum().round(2)"
   ]
  },
  {
   "cell_type": "code",
   "execution_count": null,
   "id": "042ef268",
   "metadata": {},
   "outputs": [],
   "source": [
    "at_users_monthly"
   ]
  },
  {
   "cell_type": "code",
   "execution_count": null,
   "id": "7ca529a5",
   "metadata": {},
   "outputs": [],
   "source": [
    "avg_order_value_mean = at_users_monthly['avg_order_value'].mean().round(2)\n",
    "avg_order_value_mean"
   ]
  },
  {
   "cell_type": "markdown",
   "id": "e205ed38",
   "metadata": {},
   "source": [
    "`Profit vs Profit cumulative`"
   ]
  },
  {
   "cell_type": "code",
   "execution_count": null,
   "id": "e35f18c7",
   "metadata": {},
   "outputs": [],
   "source": [
    "fig = px.line(\n",
    "    at_users_monthly\n",
    "    ,x='visit_month'\n",
    "    ,y=['profit', 'profit_cum']\n",
    "    ,title='Profit over time'\n",
    "    ,labels={\n",
    "        'visit_month': ''\n",
    "        ,'orders_count': ''\n",
    "        ,'value': ''\n",
    "        ,'variable': ''\n",
    "    }\n",
    " \n",
    ")\n",
    "fig.update_yaxes(showgrid=False)\\\n",
    "    .update_xaxes(showgrid=False)\\\n",
    "        .update_traces(textangle=1, selector=dict(type='bar'), textfont_color='white')"
   ]
  },
  {
   "cell_type": "markdown",
   "id": "376bbacc",
   "metadata": {},
   "source": [
    "`Number of monthly orders`"
   ]
  },
  {
   "cell_type": "code",
   "execution_count": null,
   "id": "6d092b93",
   "metadata": {},
   "outputs": [],
   "source": [
    "fig = px.bar(\n",
    "    at_users_monthly\n",
    "    ,x='visit_month'\n",
    "    ,y='orders_count'\n",
    "    ,title='Monthly number of orders'\n",
    "    ,labels={\n",
    "        'visit_month': ''\n",
    "        ,'orders_count': ''\n",
    "    }\n",
    "    ,text='orders_count'\n",
    " \n",
    ")\n",
    "fig.update_yaxes(showgrid=False)\\\n",
    "    .update_xaxes(showgrid=False)\\\n",
    "        .update_traces(textangle=1, selector=dict(type='bar'), textfont_color='white')"
   ]
  },
  {
   "cell_type": "markdown",
   "id": "46d118fa",
   "metadata": {},
   "source": [
    "`Average Order Value over time`"
   ]
  },
  {
   "cell_type": "code",
   "execution_count": null,
   "id": "6a0129f1",
   "metadata": {},
   "outputs": [],
   "source": [
    "avg_order_value_mean = at_users_monthly['avg_order_value'].mean()\n",
    "avg_order_value_mean"
   ]
  },
  {
   "cell_type": "code",
   "execution_count": null,
   "id": "613b2e32",
   "metadata": {},
   "outputs": [],
   "source": [
    "fig = px.bar(\n",
    "    at_users_monthly\n",
    "    ,x='visit_month'\n",
    "    ,y='avg_order_value'\n",
    "    ,title='Average Order Value over time'\n",
    "    ,labels={\n",
    "        'visit_month': ''\n",
    "        ,'avg_order_value': ''\n",
    "    }\n",
    "    ,text='avg_order_value'\n",
    "     \n",
    ")\n",
    "fig.add_hline(y=avg_order_value_mean)\\\n",
    "    .update_yaxes(showgrid=False)\\\n",
    "    .update_xaxes(showgrid=False)\\\n",
    "        .update_traces(textangle=1, selector=dict(type='bar'), textfont_color='white')"
   ]
  },
  {
   "cell_type": "markdown",
   "id": "fa2c74e0-c8b7-4a67-a1c8-751e079d9e10",
   "metadata": {},
   "source": [
    ">Conclusion\n",
    "\n",
    "- The maximum number of orders per day is 819 and the minimum is 0. From the line graph, we can see that the daily number of orders depends on the DAU.\n",
    "- It is clear that the more visitors are attracted daily, the more orders we have.\n",
    "- The number of orders fluctuates based on the month and season.\n",
    "- According to the data, December 2017 was the most profitable month with a total of 6218 orders.\n",
    "- The number of orders verises depending on the month.\n",
    "- At the same time, the average monthly order values are higher than their average values only for 3 months - June, July 2017, and April 2018."
   ]
  },
  {
   "cell_type": "markdown",
   "id": "3c70f253-81e1-46a2-8bc2-1f8db81294b3",
   "metadata": {},
   "source": [
    "### 2.7 Marketing"
   ]
  },
  {
   "cell_type": "code",
   "execution_count": null,
   "id": "4bcfd7c2",
   "metadata": {},
   "outputs": [],
   "source": [
    "df_costs = pd.read_csv(os.path.join(source_dir, file_costs)\n",
    "                      #  ,nrows=500\n",
    "                       ,parse_dates=['costs_date']\n",
    "                    #    ,dtype={'device': 'category', 'source_id': 'int'}\n",
    "                       )"
   ]
  },
  {
   "cell_type": "code",
   "execution_count": null,
   "id": "c46371a4",
   "metadata": {},
   "outputs": [],
   "source": [
    "df_costs.info()\n",
    "# df_costs.head()\n",
    "# df_costs.tail()\n",
    "df_costs.sample(5)\n",
    "df_costs.nunique()\n",
    "# df_costs.duplicated().mean()"
   ]
  },
  {
   "cell_type": "markdown",
   "id": "33f7b0f2-39a2-47ac-ad61-eb80b06dce59",
   "metadata": {},
   "source": [
    "`How much money was spent - Overall?`"
   ]
  },
  {
   "cell_type": "code",
   "execution_count": null,
   "id": "36041a3e",
   "metadata": {},
   "outputs": [],
   "source": [
    "df_costs['costs'].sum()\n",
    "df_costs['costs'].mean().round(2)\n",
    "\n",
    "df_costs.groupby('costs_date')['costs'].sum().mean().round(2)\n"
   ]
  },
  {
   "cell_type": "markdown",
   "id": "6987fede",
   "metadata": {},
   "source": [
    "`How much money was spent - Per source overall?`"
   ]
  },
  {
   "cell_type": "code",
   "execution_count": null,
   "id": "906d3a4e-5d6e-432c-bca7-fec6677c60d8",
   "metadata": {},
   "outputs": [],
   "source": [
    "_costs_per_source_total = df_costs.groupby('source_id')\\\n",
    "    .agg({\n",
    "        'costs': ['sum', 'mean']\n",
    "        })\\\n",
    "        .reset_index()\n",
    "_costs_per_source_total.columns = _costs_per_source_total.columns.map('_'.join)\n",
    "# _costs_per_source_total.columns['costs_mean'] = _costs_per_source_total.columns['costs_mean'].round(2)\n",
    "_costs_per_source_total"
   ]
  },
  {
   "cell_type": "code",
   "execution_count": null,
   "id": "8de98a26",
   "metadata": {},
   "outputs": [],
   "source": [
    "fig = px.bar(\n",
    "    _costs_per_source_total\n",
    "    ,x='source_id_'\n",
    "    ,y='costs_sum'\n",
    "    ,title='Costs per source Id overall'\n",
    "    ,labels={\n",
    "        'source_id_': ''\n",
    "        ,'costs_sum': ''\n",
    "    }\n",
    "    ,text='costs_sum'\n",
    " \n",
    ")\n",
    "fig.update_yaxes(showgrid=False)\\\n",
    "    .update_xaxes(showgrid=False)\\\n",
    "        .update_traces(textangle=1, selector=dict(type='bar'), textfont_color='white')"
   ]
  },
  {
   "cell_type": "markdown",
   "id": "ced206c4",
   "metadata": {},
   "source": [
    "`Tracking Daily Expenses Over Time`"
   ]
  },
  {
   "cell_type": "code",
   "execution_count": null,
   "id": "01e7d708",
   "metadata": {},
   "outputs": [],
   "source": [
    "_costs_daily = df_costs.groupby('costs_date')['costs'].sum().reset_index()\n",
    "_costs_daily.head()"
   ]
  },
  {
   "cell_type": "code",
   "execution_count": null,
   "id": "eb7fed4c",
   "metadata": {},
   "outputs": [],
   "source": [
    "fig = px.line(\n",
    "    _costs_daily\n",
    "    ,x='costs_date'\n",
    "    ,y='costs'\n",
    "    ,title='Daily money spent over time'\n",
    "    ,labels={\n",
    "        'costs_date': ''\n",
    "        ,'costs': ''\n",
    "    }\n",
    " \n",
    ")\n",
    "fig.update_yaxes(showgrid=False)\\\n",
    "    .update_xaxes(showgrid=False)\\\n",
    "        .update_traces(textangle=1, selector=dict(type='bar'), textfont_color='white')"
   ]
  },
  {
   "cell_type": "markdown",
   "id": "4e212b5f",
   "metadata": {},
   "source": [
    "`Tracking Monthly Expenses Over Time by Source Id`"
   ]
  },
  {
   "cell_type": "code",
   "execution_count": null,
   "id": "0be64eaf",
   "metadata": {},
   "outputs": [],
   "source": [
    "df_costs['costs_month'] = helpers.get_month(df_costs['costs_date'])\n",
    "df_costs['costs_year'] = df_costs['costs_date'].dt.isocalendar().year"
   ]
  },
  {
   "cell_type": "code",
   "execution_count": null,
   "id": "020e3a0a",
   "metadata": {},
   "outputs": [],
   "source": [
    "_costs_monthly_by_source_id = df_costs.groupby(['costs_year', 'costs_month', 'source_id'])\\\n",
    "    ['costs'].sum().reset_index()\n",
    "_costs_monthly_by_source_id"
   ]
  },
  {
   "cell_type": "code",
   "execution_count": null,
   "id": "fa57eb3f",
   "metadata": {},
   "outputs": [],
   "source": [
    "fig = px.area(\n",
    "    _costs_monthly_by_source_id\n",
    "    ,x='costs_month'\n",
    "    ,y='costs'\n",
    "    ,title='Monthly Marketing costs over time by source Id'\n",
    "    ,labels={\n",
    "        'costs_month': ''\n",
    "        ,'costs': ''\n",
    "        ,'source_id': 'Source Id'\n",
    "    }\n",
    "    ,color='source_id'\n",
    " \n",
    ")\n",
    "fig.update_yaxes(showgrid=False)\\\n",
    "    .update_xaxes(showgrid=False)\\\n",
    "        .update_traces(textangle=1, selector=dict(type='bar'), textfont_color='white')"
   ]
  },
  {
   "cell_type": "markdown",
   "id": "17acfd00-2375-482a-bf96-d6b99c1384d2",
   "metadata": {},
   "source": [
    ">***Conclusion:***\n",
    "\n",
    "- There are 7 sources Id\n",
    "- Total spends is 329131.62\n",
    "- Average daily costs are 904.21\n",
    "- Average monthly costs are 14790.5 and range from minimum (14790.5) in August 2017 to maximum (30487.6) in January 2018.\n",
    "- The most expensive `source_id`  is 3rd, the less expensive - 9th, and 10th."
   ]
  },
  {
   "cell_type": "markdown",
   "id": "4dd86cc7-4775-4d46-9487-a0184309bbfe",
   "metadata": {},
   "source": [
    "`Monthly acquisition cost by Source Id`"
   ]
  },
  {
   "cell_type": "code",
   "execution_count": null,
   "id": "22eb05cd",
   "metadata": {},
   "outputs": [],
   "source": [
    "at_users_monthly_by_source_id = df_users.groupby(['visit_year', 'visit_month', 'source_id'])\\\n",
    "    .agg({\n",
    "        'uid': 'nunique'\n",
    "        ,'session_start_ts': 'count'\n",
    "        ,'buy_ts': 'count'\n",
    "        ,'revenue': 'sum'\n",
    "        ,'is_new_user': 'sum'\n",
    "        ,'is_new_buyer': 'sum'        \n",
    "    })\\\n",
    "        .reset_index()\\\n",
    "            .rename(columns = {\n",
    "                'uid': 'nunique_users'\n",
    "                ,'session_start_ts': 'sessions_count'\n",
    "                ,'buy_ts': 'orders_count'\n",
    "                ,'revenue': 'revenue_sum'\n",
    "                ,'is_new_user': 'new_users'\n",
    "                ,'is_new_buyer': 'new_buyers' \n",
    "            })\n",
    "at_users_monthly_by_source_id.head()\n"
   ]
  },
  {
   "cell_type": "code",
   "execution_count": null,
   "id": "14ec144e",
   "metadata": {},
   "outputs": [],
   "source": [
    "report_cac = at_users_monthly_by_source_id.merge(_costs_monthly_by_source_id, how='left'\n",
    "                                  ,left_on=['visit_year', 'visit_month', 'source_id']\n",
    "                                  ,right_on=['costs_year', 'costs_month', 'source_id']\n",
    "                                  )"
   ]
  },
  {
   "cell_type": "code",
   "execution_count": null,
   "id": "10d36d70",
   "metadata": {},
   "outputs": [],
   "source": [
    "report_cac.sample(5)"
   ]
  },
  {
   "cell_type": "markdown",
   "id": "53024b34",
   "metadata": {},
   "source": [
    "`Calculating CAC - customer acquisition costs`\n",
    "\n",
    "Customer Acquisition Cost = Cost of Sales and Marketing divided by the Number of New Customers Acquired.\n",
    "\n",
    "https://blog.hubspot.com/service/what-does-cac-stand-for"
   ]
  },
  {
   "cell_type": "code",
   "execution_count": null,
   "id": "c78dd790",
   "metadata": {},
   "outputs": [],
   "source": [
    "report_cac['cac'] = (report_cac['costs'] / report_cac['new_users']).round(2)"
   ]
  },
  {
   "cell_type": "code",
   "execution_count": null,
   "id": "33866e83",
   "metadata": {},
   "outputs": [],
   "source": [
    "fig = px.bar(\n",
    "    report_cac\n",
    "    ,x='costs_month'\n",
    "    ,y='cac'\n",
    "    ,title='CAC - customer acquisition costs by source Id'\n",
    "    ,labels={\n",
    "        'visit_month': ''\n",
    "        ,'cac': ''\n",
    "        ,'source_id': ''\n",
    "        ,'costs_month': ''\n",
    "    }\n",
    "    ,color='source_id'\n",
    "    ,barmode='group'\n",
    " \n",
    ")\n",
    "fig.update_yaxes(showgrid=False)\\\n",
    "    .update_xaxes(showgrid=False)\\\n",
    "        .update_traces(textangle=1, selector=dict(type='bar'), textfont_color='white')"
   ]
  },
  {
   "cell_type": "markdown",
   "id": "14f05434",
   "metadata": {},
   "source": [
    "`LTV vs CAC ratio`"
   ]
  },
  {
   "cell_type": "code",
   "execution_count": null,
   "id": "e44790e7",
   "metadata": {},
   "outputs": [],
   "source": [
    "df_costs_monthly = df_costs.groupby(['costs_year', 'costs_month'])['costs']\\\n",
    "    .sum().reset_index().rename(columns = {'costs': 'costs_total'})"
   ]
  },
  {
   "cell_type": "code",
   "execution_count": null,
   "id": "2446e9c0",
   "metadata": {},
   "outputs": [],
   "source": [
    "at_users_monthly = at_users_monthly.merge(df_costs_monthly\n",
    "                                          ,how='left'\n",
    "                                          ,left_on=['visit_year', 'visit_month']\n",
    "                                          ,right_on=['costs_year', 'costs_month']\n",
    "                                          )"
   ]
  },
  {
   "cell_type": "code",
   "execution_count": null,
   "id": "e0277843",
   "metadata": {},
   "outputs": [],
   "source": [
    "at_users_monthly['cac'] = (at_users_monthly['costs_total'] / at_users_monthly['new_users'])\\\n",
    "    .round(2)"
   ]
  },
  {
   "cell_type": "code",
   "execution_count": null,
   "id": "c2060edd-5951-4611-af4f-de57069bd09c",
   "metadata": {},
   "outputs": [],
   "source": [
    "at_users_monthly['ltv_cac_ratio'] = (at_users_monthly['avg_customer_ltv_cum'] / at_users_monthly['cac'])\\\n",
    "    .round(2)"
   ]
  },
  {
   "cell_type": "code",
   "execution_count": null,
   "id": "94d5f48b",
   "metadata": {},
   "outputs": [],
   "source": [
    "fig = px.bar(\n",
    "    at_users_monthly\n",
    "    ,x='visit_month'\n",
    "    ,y='ltv_cac_ratio'\n",
    "    ,title='LTV vs CAC ratio'\n",
    "    ,labels={\n",
    "        'visit_month': ''\n",
    "        ,'ltv_cac_ratio': ''\n",
    "    }\n",
    "    ,text='ltv_cac_ratio'\n",
    ")\n",
    "fig.add_hline(y=3)\\\n",
    "    .update_yaxes(showgrid=False)\\\n",
    "    .update_xaxes(showgrid=False)\\\n",
    "        .update_traces(textangle=1, selector=dict(type='bar'), textfont_color='white')"
   ]
  },
  {
   "cell_type": "markdown",
   "id": "fbfea33f",
   "metadata": {},
   "source": [
    "*Ideally, LTV: CAC ratio should be 3:1 — in other words, the value of your customers should be three times the cost of acquiring them.*"
   ]
  },
  {
   "cell_type": "markdown",
   "id": "fb3fbc9f",
   "metadata": {},
   "source": [
    "`Churn Rate`\n",
    "\n",
    "Churn Rate = (Users at the beginning of the month - Users at the end of the month) / by Users at the beginning of the month\n",
    "\n",
    "https://www.zoho.com/subscriptions/guides/what-is-customer-lifetime-value-clv.html#:~:text=Average%20Customer%20Lifespan%20(ACL)%20is,the%20total%20number%20of%20customers.\n",
    "\n",
    "The other appoach - What is churn rate in ecommerce?\n",
    "A churn rate is the percentage of your existing customers who do not reorder.\n",
    "\n",
    "https://www.shopify.com/blog/churn-rate-in-ecommerce#:~:text=What%20is%20churn%20rate%20in,a%20customer%20won't%20return.\n",
    "\n",
    "Generally, a lower churn rate is better, as it means more customers are reordering"
   ]
  },
  {
   "cell_type": "code",
   "execution_count": null,
   "id": "08c079c4",
   "metadata": {},
   "outputs": [],
   "source": [
    "at_users_monthly['mau_previous'] = at_users_monthly['mau'].shift(1)\n",
    "\n",
    "# The first approach\n",
    "# at_users_monthly['churn_rate'] = ((at_users_monthly['mau_previous'] - at_users_monthly['mau']) / at_users_monthly['mau_previous']).round(2)\n",
    "\n",
    "\n",
    "# The second approach\n",
    "at_users_monthly['churn_rate'] = (at_users_monthly['orders_count'] / at_users_monthly['mau_previous'] * 100).round(2)"
   ]
  },
  {
   "cell_type": "code",
   "execution_count": null,
   "id": "5be57f37",
   "metadata": {},
   "outputs": [],
   "source": [
    "fig = px.bar(\n",
    "    at_users_monthly\n",
    "    ,x='visit_month'\n",
    "    ,y='churn_rate'\n",
    "    ,title='Churn Rate'\n",
    "    ,labels={\n",
    "        'visit_month': ''\n",
    "        ,'churn_rate': ''\n",
    "    }\n",
    "    ,text='churn_rate'\n",
    ")\n",
    "fig.update_yaxes(showgrid=False)\\\n",
    "    .update_xaxes(showgrid=False)\\\n",
    "        .update_traces(textangle=1, selector=dict(type='bar'), textfont_color='white')"
   ]
  },
  {
   "cell_type": "markdown",
   "id": "6a5c20dc",
   "metadata": {},
   "source": [
    "`ROMI - Return on Marketing Investment`\n",
    "\n",
    "ROMI = (Revenue - Marketing Expenses) / Marketing Expenses\n",
    "\n",
    "https://www.dashly.io/blog/roi-formula/"
   ]
  },
  {
   "cell_type": "code",
   "execution_count": null,
   "id": "dacb9884",
   "metadata": {},
   "outputs": [],
   "source": [
    "at_users_monthly['romi'] = ((at_users_monthly['revenue_total'] - at_users_monthly['costs_total']) /at_users_monthly['costs_total'] * 100).round(2)"
   ]
  },
  {
   "cell_type": "code",
   "execution_count": null,
   "id": "d5ae0b42",
   "metadata": {},
   "outputs": [],
   "source": [
    "fig = px.bar(\n",
    "    at_users_monthly\n",
    "    ,x='visit_month'\n",
    "    ,y='romi'\n",
    "    ,title='Monthly ROMI - Return on Marketing Investment'\n",
    "    ,labels={\n",
    "        'visit_month': ''\n",
    "        ,'romi': ''\n",
    "    }\n",
    "    ,text='romi'\n",
    ")\n",
    "fig.update_yaxes(showgrid=False)\\\n",
    "    .update_xaxes(showgrid=False)\\\n",
    "        .update_traces(textangle=1, selector=dict(type='bar'), textfont_color='white')"
   ]
  },
  {
   "cell_type": "markdown",
   "id": "0b068f6e",
   "metadata": {},
   "source": [
    "`ROAS - the Return Ratio of your Advertising Spend`\n",
    "\n",
    "ROAS = Revenue Total / Advertising Total Costs"
   ]
  },
  {
   "cell_type": "code",
   "execution_count": null,
   "id": "e3321342",
   "metadata": {},
   "outputs": [],
   "source": [
    "at_users_monthly['roas'] = (at_users_monthly['revenue_total']  / at_users_monthly['costs_total'] * 100).round(2)"
   ]
  },
  {
   "cell_type": "code",
   "execution_count": null,
   "id": "12b017ec",
   "metadata": {},
   "outputs": [],
   "source": [
    "fig = px.bar(\n",
    "    at_users_monthly\n",
    "    ,x='visit_month'\n",
    "    ,y='roas'\n",
    "    ,title='Monthly ROAS - the Return Ratio of Advertising Spend'\n",
    "    ,labels={\n",
    "        'visit_month': ''\n",
    "        ,'roas': ''\n",
    "    }\n",
    "    ,text='roas'\n",
    ")\n",
    "fig.update_yaxes(showgrid=False)\\\n",
    "    .update_xaxes(showgrid=False)\\\n",
    "        .update_traces(textangle=1, selector=dict(type='bar'), textfont_color='white')"
   ]
  },
  {
   "cell_type": "code",
   "execution_count": null,
   "id": "f2df3c89",
   "metadata": {},
   "outputs": [],
   "source": [
    "fig = px.bar(\n",
    "    at_users_monthly\n",
    "    ,x='visit_month'\n",
    "    ,y=['revenue_total', 'costs_total']\n",
    "    ,title='Revenue vs Costs, monthly'\n",
    "    ,labels={\n",
    "        'variable': ''\n",
    "        ,'value': ''\n",
    "        ,'revenue_total': 'Revenue Total'\n",
    "        ,'costs_total': 'Costs Total'\n",
    "        ,'visit_month': ''\n",
    "    }\n",
    "    ,barmode='group'\n",
    ")\n",
    "fig.update_yaxes(showgrid=False)\\\n",
    "    .update_xaxes(showgrid=False)\\\n",
    "        .update_traces(textangle=1, selector=dict(type='bar'), textfont_color='white')"
   ]
  },
  {
   "cell_type": "code",
   "execution_count": null,
   "id": "327bd2a4",
   "metadata": {},
   "outputs": [],
   "source": [
    "at_users_monthly"
   ]
  },
  {
   "cell_type": "markdown",
   "id": "732a58ca",
   "metadata": {},
   "source": [
    ">Conclusion\n",
    "\n",
    "- The CAC depends on the `source_id`.\n",
    "- The most expensive sources are 1, 2 and 3.\n",
    "- The biggest season dependency 2nd and 3rd source Id has.\n",
    "- Ideally, LTV: CAC ratio should be 3:1 — in other words, the value of your customers should be three times the cost of acquiring them. However we see that this ratio is less than 1.\n",
    "- Revenue does not cover the costs of advertising. \n",
    "- Each month, the ROMI (Return on Marketing Investment) has negative values due to advertising costs exceeding revenue.\n",
    "- ROAS - The Return Ratio of Advertising Spends is less than 60%"
   ]
  },
  {
   "cell_type": "markdown",
   "id": "e15418ad",
   "metadata": {},
   "source": [
    "### 2.8 Save Analytical tables for daily and monthly user activities"
   ]
  },
  {
   "cell_type": "code",
   "execution_count": null,
   "id": "a3d441d8",
   "metadata": {},
   "outputs": [],
   "source": [
    "at_users_monthly_by_source_and_device = df_users.groupby([\n",
    "    'visit_year',  \n",
    "    'visit_month', \n",
    "    'source_id',\n",
    "    'device',       \n",
    "    'session_category_name',     \n",
    "    'conversion_group_name'\n",
    "]).agg({\n",
    "    'uid': 'nunique',\n",
    "    'session_start_ts': 'count',    \n",
    "    'session_duration_sec': 'sum', \n",
    "    'is_new_user': 'sum', \n",
    "    'is_new_buyer': 'sum', \n",
    "    'is_bought': 'sum',\n",
    "    'revenue': 'sum'\n",
    "})\\\n",
    "    .reset_index()\\\n",
    "        .rename(columns ={\n",
    "            'uid': 'nunique_users',\n",
    "            'session_start_ts': 'sessions_total',\n",
    "            'revenue': 'revenue_sum',             \n",
    "            'session_duration_sec': 'session_duration_sec_sum', \n",
    "            'is_new_user': 'is_new_user_sum', \n",
    "            'is_new_buyer': 'is_new_buyer_sum', \n",
    "            'is_bought': 'is_bought_sum',\n",
    "        })"
   ]
  },
  {
   "cell_type": "code",
   "execution_count": null,
   "id": "971db8f6",
   "metadata": {},
   "outputs": [],
   "source": [
    "at_users_monthly_by_source_and_device.sample(10)"
   ]
  },
  {
   "cell_type": "code",
   "execution_count": null,
   "metadata": {},
   "outputs": [],
   "source": [
    "# The test numbers after aggregation\n",
    "\n",
    "# Revenue\n",
    "df_users.revenue.sum()\n",
    "at_users_monthly_by_source_and_device.revenue_sum.sum()\n",
    "\n",
    "# Number of sessions\n",
    "df_users['session_start_ts'].count()\n",
    "at_users_monthly_by_source_and_device['sessions_total'].sum()\n",
    "\n",
    "# NB! The same user can have visits from different sources_id and devices at the same day/month\n",
    "\n",
    "df_users.uid.nunique()\n",
    "at_users_monthly_by_source_and_device.nunique_users.sum()"
   ]
  },
  {
   "cell_type": "code",
   "execution_count": null,
   "id": "82ae6db2",
   "metadata": {},
   "outputs": [],
   "source": [
    "at_costs_monthly = df_costs.groupby(['costs_year', 'costs_month', 'source_id'])['costs'].sum().reset_index()\n",
    "at_costs_monthly"
   ]
  },
  {
   "cell_type": "code",
   "execution_count": null,
   "id": "64c5a5cf",
   "metadata": {},
   "outputs": [],
   "source": [
    "at_users_monthly = at_users_monthly.drop(['costs_year', 'costs_month'], axis=1)"
   ]
  },
  {
   "cell_type": "code",
   "execution_count": null,
   "id": "42f1ece4",
   "metadata": {},
   "outputs": [],
   "source": [
    "at_users_monthly\n",
    "at_users_monthly['mau'].sum()\n",
    "at_users_monthly['costs_total'].sum()"
   ]
  },
  {
   "cell_type": "code",
   "execution_count": null,
   "id": "ecc6b7dc",
   "metadata": {},
   "outputs": [],
   "source": [
    "# The test numbers after aggregation\n",
    "\n",
    "df_costs['costs'].sum()\n",
    "at_costs_monthly['costs'].sum()"
   ]
  },
  {
   "cell_type": "code",
   "execution_count": null,
   "id": "856946f9",
   "metadata": {},
   "outputs": [],
   "source": [
    "path_to_save = './reports/'\n",
    "file_at_users_monthly_by_source_and_device = 'at_users_monthly_by_source_and_device.csv'\n",
    "file_at_costs_monthly = 'at_costs_monthly.csv'\n",
    "file_at_users_daily = 'at_users_daily.csv'\n",
    "file_at_users_monthly = 'at_users_monthly.csv'"
   ]
  },
  {
   "cell_type": "code",
   "execution_count": null,
   "id": "a1d37055",
   "metadata": {},
   "outputs": [],
   "source": [
    "at_users_monthly_by_source_and_device.to_csv(os.path.join(path_to_save, file_at_users_monthly_by_source_and_device), sep=',', encoding='utf-8', index=False)\n",
    "at_costs_monthly.to_csv(os.path.join(path_to_save, file_at_costs_monthly), sep=',', encoding='utf-8', index=False)\n",
    "\n",
    "at_users_daily.to_csv(os.path.join(path_to_save, file_at_users_daily), sep=',', encoding='utf-8', index=False)\n",
    "at_users_monthly.to_csv(os.path.join(path_to_save, file_at_users_monthly), sep=',', encoding='utf-8', index=False)"
   ]
  },
  {
   "cell_type": "markdown",
   "id": "98a0a360-f0a9-4587-bc74-0ba5f042a823",
   "metadata": {},
   "source": [
    "## Step 3. General conclusion"
   ]
  },
  {
   "cell_type": "code",
   "execution_count": null,
   "id": "9c1500be",
   "metadata": {},
   "outputs": [],
   "source": []
  },
  {
   "cell_type": "markdown",
   "id": "6be164d0-fb52-4cc1-aa62-f81c61a6a5ec",
   "metadata": {},
   "source": [
    "## End"
   ]
  }
 ],
 "metadata": {
  "kernelspec": {
   "display_name": "Python 3 (ipykernel)",
   "language": "python",
   "name": "python3"
  },
  "language_info": {
   "codemirror_mode": {
    "name": "ipython",
    "version": 3
   },
   "file_extension": ".py",
   "mimetype": "text/x-python",
   "name": "python",
   "nbconvert_exporter": "python",
   "pygments_lexer": "ipython3",
   "version": "3.9.16"
  },
  "widgets": {
   "application/vnd.jupyter.widget-state+json": {
    "state": {},
    "version_major": 2,
    "version_minor": 0
   }
  }
 },
 "nbformat": 4,
 "nbformat_minor": 5
}

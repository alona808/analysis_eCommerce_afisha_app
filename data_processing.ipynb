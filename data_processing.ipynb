{
 "cells": [
  {
   "cell_type": "markdown",
   "id": "61d6bc83-8648-49a3-b274-1d6daa02e772",
   "metadata": {},
   "source": [
    "## Settings"
   ]
  },
  {
   "cell_type": "markdown",
   "id": "04796e18-4784-48c4-837a-1c16e5e941ab",
   "metadata": {},
   "source": [
    "### Importing libraries"
   ]
  },
  {
   "cell_type": "code",
   "execution_count": null,
   "id": "5451449d-f732-4486-9478-0890b5501924",
   "metadata": {},
   "outputs": [],
   "source": [
    "import os\n",
    "import numpy as np\n",
    "import pandas as pd\n",
    "import datetime as dt\n",
    "\n",
    "from scipy import stats\n",
    "from scipy.stats import mode\n",
    "\n",
    "# !pip install pandasql\n",
    "from pandasql import sqldf\n",
    "\n",
    "# visualization\n",
    "import matplotlib.pyplot as plt\n",
    "import seaborn as sns\n",
    "import plotly.express as px\n",
    "import plotly.figure_factory as ff\n",
    "import plotly.graph_objects as go\n",
    "import plotly.io as pio\n",
    "\n",
    "# to print all the outputs in the cell\n",
    "from IPython.core.interactiveshell import InteractiveShell\n",
    "InteractiveShell.ast_node_interactivity = \"all\"\n",
    "\n",
    "# to show warnings only once:\n",
    "import warnings; warnings.filterwarnings(action='once')\n",
    "\n",
    "# import the own module \n",
    "import helpers"
   ]
  },
  {
   "cell_type": "markdown",
   "id": "4ecbd153-3a88-4087-b236-ca7144b99d10",
   "metadata": {},
   "source": [
    "### Some additional settings"
   ]
  },
  {
   "cell_type": "code",
   "execution_count": null,
   "id": "ddbb9d92-0673-4dae-8657-7254cf0de86e",
   "metadata": {
    "ExecuteTime": {
     "end_time": "2022-03-20T12:10:26.270688Z",
     "start_time": "2022-03-20T12:10:26.244808Z"
    }
   },
   "outputs": [],
   "source": [
    "# adjusting columns width & number of chars\n",
    "pd.set_option('display.width', 600)\n",
    "pd.set_option('max_colwidth', 500)\n",
    "\n",
    "# set pandas max columns and rows to print\n",
    "pd.set_option('display.max_columns', 50)\n",
    "pd.set_option('display.max_rows', 50)\n",
    "\n",
    "# settings for Vizs\n",
    "large = 22\n",
    "med = 16\n",
    "small = 12\n",
    "params = {\n",
    "    'axes.titlesize': large,\n",
    "    'legend.fontsize': med,\n",
    "    'figure.figsize': (17, 10),\n",
    "    'axes.labelsize': med,\n",
    "    'axes.titlesize': med,\n",
    "    'xtick.labelsize': med,\n",
    "    'ytick.labelsize': med,\n",
    "    'figure.titlesize': large\n",
    "}\n",
    "plt.rcParams.update(params)\n",
    "sns.set_style(\"white\")\n",
    "%matplotlib inline"
   ]
  },
  {
   "cell_type": "markdown",
   "id": "ecfeab22",
   "metadata": {},
   "source": [
    "*Selecting theme for graphs*"
   ]
  },
  {
   "cell_type": "code",
   "execution_count": null,
   "id": "3e65b610",
   "metadata": {},
   "outputs": [],
   "source": [
    "pio.templates"
   ]
  },
  {
   "cell_type": "code",
   "execution_count": null,
   "id": "11fa1b1d-d4f0-400f-b866-d01f383d17cb",
   "metadata": {},
   "outputs": [],
   "source": [
    "pio.templates.default = \"plotly_dark\"\n",
    "\n",
    "px.defaults.template = \"plotly_dark\"\n",
    "px.defaults.color_continuous_scale = px.colors.sequential.gray_r\n",
    "# px.defaults.width = 600\n",
    "# px.defaults.height = 400\n",
    "# color_discrete_sequence=px.colors.sequential.Oryel"
   ]
  },
  {
   "cell_type": "markdown",
   "id": "f17cc5c5-42ee-4a88-beda-7b67ba193b2d",
   "metadata": {},
   "source": [
    "## Download the data and prepare it for analysis."
   ]
  },
  {
   "cell_type": "code",
   "execution_count": null,
   "id": "18cc8b71-3bdc-4d98-8301-78ee611d1cc4",
   "metadata": {
    "ExecuteTime": {
     "end_time": "2022-03-20T12:10:26.412683Z",
     "start_time": "2022-03-20T12:10:26.397683Z"
    }
   },
   "outputs": [],
   "source": [
    "source_dir = './data/raw/' \n",
    "\n",
    "missing_values = [\"n/a\", \"na\", \"--\"]\n",
    "\n",
    "# files to download:\n",
    "raw_visits = 'visits_log_us.csv'\n",
    "raw_orders = 'orders_log_us.csv'\n",
    "raw_costs = 'costs_us.csv'"
   ]
  },
  {
   "cell_type": "markdown",
   "id": "7b483c4b-2523-4920-b8f1-e9cca8611a66",
   "metadata": {},
   "source": [
    "### The `visits_log_us` dataset"
   ]
  },
  {
   "cell_type": "markdown",
   "id": "d063d71e-d087-43fd-bb40-f52607b11370",
   "metadata": {},
   "source": [
    "_Downloading a small portion of data for the first look at the data_"
   ]
  },
  {
   "cell_type": "code",
   "execution_count": null,
   "id": "1f98f07b-b834-4796-a34b-47b767edc8ed",
   "metadata": {},
   "outputs": [],
   "source": [
    "visits_portion = pd.read_csv(os.path.join(source_dir, raw_visits),\n",
    "                          parse_dates=['Start Ts', 'End Ts'],\n",
    "                          na_values=missing_values,\n",
    "                          nrows=500)\n",
    "\n",
    "visits_portion.info(memory_usage='deep')\n",
    "visits_portion.head()"
   ]
  },
  {
   "cell_type": "markdown",
   "id": "64456c02-1fa1-44e2-815b-299def73f873",
   "metadata": {},
   "source": [
    "*Downloading data with the correct data types*"
   ]
  },
  {
   "cell_type": "code",
   "execution_count": null,
   "id": "6e62f609-519f-4ea3-b420-055442b1fc34",
   "metadata": {
    "ExecuteTime": {
     "end_time": "2022-03-20T12:10:27.700348Z",
     "start_time": "2022-03-20T12:10:26.586596Z"
    }
   },
   "outputs": [],
   "source": [
    "df_visits_origin = pd.read_csv(os.path.join(source_dir, raw_visits),\n",
    "                     na_values=missing_values,\n",
    "                     dtype={'Device': 'category', 'Source Id': 'category', 'Uid': 'string'},\n",
    "                     parse_dates=['Start Ts', 'End Ts'])"
   ]
  },
  {
   "cell_type": "code",
   "execution_count": null,
   "id": "33e8062d-42c8-4b4e-84f1-432451639224",
   "metadata": {
    "ExecuteTime": {
     "end_time": "2022-03-20T12:10:27.700348Z",
     "start_time": "2022-03-20T12:10:26.586596Z"
    }
   },
   "outputs": [],
   "source": [
    "# saving the original data set for comparing changes to be made\n",
    "df_visits = df_visits_origin.copy()"
   ]
  },
  {
   "cell_type": "markdown",
   "id": "eeef4c4c-d1f4-48ce-af90-aaa502e7f228",
   "metadata": {},
   "source": [
    "#### Summary statistics"
   ]
  },
  {
   "cell_type": "code",
   "execution_count": null,
   "id": "a44f86d8-33c1-435d-aadb-e874bbeb0bdc",
   "metadata": {},
   "outputs": [],
   "source": [
    "df_visits.shape"
   ]
  },
  {
   "cell_type": "code",
   "execution_count": null,
   "id": "f6e3e623-32f7-4ea5-98c1-01d7b50f8597",
   "metadata": {},
   "outputs": [],
   "source": [
    "df_visits.info(memory_usage='deep')"
   ]
  },
  {
   "cell_type": "code",
   "execution_count": null,
   "id": "9bca0f21",
   "metadata": {},
   "outputs": [],
   "source": [
    "# df_visits['Uid'] = df_visits['Uid'].astype('string')\n",
    "# df_visits.info()"
   ]
  },
  {
   "cell_type": "code",
   "execution_count": null,
   "id": "0a99ef0d-c722-4def-a46e-3bd83e9bdd95",
   "metadata": {},
   "outputs": [],
   "source": [
    "df_visits.describe()"
   ]
  },
  {
   "cell_type": "code",
   "execution_count": null,
   "id": "68a78d93-ca95-42c6-91ac-b3d0efc3a1b0",
   "metadata": {},
   "outputs": [],
   "source": [
    "df_visits.head()\n",
    "df_visits.tail()"
   ]
  },
  {
   "cell_type": "code",
   "execution_count": null,
   "id": "64836f18-c5e0-4328-b4b7-accfd34d8793",
   "metadata": {},
   "outputs": [],
   "source": [
    "df_visits.isna().mean()"
   ]
  },
  {
   "cell_type": "code",
   "execution_count": null,
   "id": "311cccb5-edad-4cb5-8fbc-96fd5cf48e57",
   "metadata": {},
   "outputs": [],
   "source": [
    "df_visits.duplicated().mean()"
   ]
  },
  {
   "cell_type": "code",
   "execution_count": null,
   "id": "8f252e67-559c-40e1-966a-3226b4ca23f2",
   "metadata": {},
   "outputs": [],
   "source": [
    "df_visits.nunique()"
   ]
  },
  {
   "cell_type": "markdown",
   "id": "f1c4fa4a-a833-47b2-b95b-5ec7def6cca2",
   "metadata": {},
   "source": [
    "#### Data pre-processing"
   ]
  },
  {
   "cell_type": "markdown",
   "id": "6f5e7862-2856-4912-9de9-edbb57abbe13",
   "metadata": {},
   "source": [
    "*Converting column names to lowercase and replacing space with `_`:*"
   ]
  },
  {
   "cell_type": "code",
   "execution_count": null,
   "id": "fea2c59a-e421-4aa1-8fbc-b55f421bb8fa",
   "metadata": {},
   "outputs": [],
   "source": [
    "df_visits.columns = df_visits.columns.str.lower().str.replace(' ', '_')\n",
    "df_visits.head()"
   ]
  },
  {
   "cell_type": "markdown",
   "id": "5b97cfbf-61c0-4638-86dc-e884d081fbbd",
   "metadata": {},
   "source": [
    "*Rename some columns for better understanding data by business users*"
   ]
  },
  {
   "cell_type": "code",
   "execution_count": null,
   "id": "1b9a7768-dc0d-4562-9a30-215d8e104690",
   "metadata": {},
   "outputs": [],
   "source": [
    "df_visits.rename(columns={'end_ts': 'session_end_ts',\n",
    "                          'start_ts': 'session_start_ts'}, inplace=True)"
   ]
  },
  {
   "cell_type": "markdown",
   "id": "86a15fdb",
   "metadata": {},
   "source": [
    " *Replacing the value `touch` with `mobile` and the value `desktop` with `browser` according to the project description.*"
   ]
  },
  {
   "cell_type": "code",
   "execution_count": null,
   "id": "68978caa-b11d-4c7d-8277-94dbc22ba81c",
   "metadata": {},
   "outputs": [],
   "source": [
    "df_visits = df_visits.replace({'touch': 'mobile', 'desktop': 'browser'})\n",
    "df_visits['device'].unique()"
   ]
  },
  {
   "cell_type": "markdown",
   "id": "c9bf1621",
   "metadata": {},
   "source": [
    "*Reoderring columns*"
   ]
  },
  {
   "cell_type": "code",
   "execution_count": null,
   "id": "e4241a2f",
   "metadata": {},
   "outputs": [],
   "source": [
    "df_visits = df_visits.reindex(columns=['uid', 'device', 'source_id', 'session_start_ts', 'session_end_ts'])"
   ]
  },
  {
   "cell_type": "code",
   "execution_count": null,
   "id": "cb5bc17b-f5a0-451f-8661-49752db0a6c5",
   "metadata": {},
   "outputs": [],
   "source": [
    "df_visits.sample(5)"
   ]
  },
  {
   "cell_type": "markdown",
   "id": "251f7674",
   "metadata": {},
   "source": [
    "*Are there entries outside of our period from June 1, 2017 to May 31, 2018*"
   ]
  },
  {
   "cell_type": "code",
   "execution_count": null,
   "id": "f7891fde",
   "metadata": {},
   "outputs": [],
   "source": [
    "df_visits[df_visits['session_end_ts'] >= '2018-06-01'].shape[0]\n",
    "df_visits[df_visits['session_end_ts'] >= '2018-06-01']"
   ]
  },
  {
   "cell_type": "markdown",
   "id": "43c98539",
   "metadata": {},
   "source": [
    ">The DataFrame contains 12 records with the `session_end_ts` out of scope. however, these sessions started within researching period. \n",
    "\n",
    "So, before deleting these records, let's find out if users made any purchases during these sessions. We will verify this in the next step by analyzing the orders table."
   ]
  },
  {
   "cell_type": "markdown",
   "id": "15b74738-17f7-470b-9b30-82ba34712364",
   "metadata": {},
   "source": [
    "*Are there weird entries where `start_ts` is bigger than `end_ts`:*"
   ]
  },
  {
   "cell_type": "code",
   "execution_count": null,
   "id": "83ff5dda-16a4-419f-a402-e2d734507f44",
   "metadata": {},
   "outputs": [],
   "source": [
    "df_visits[df_visits['session_start_ts'] > df_visits['session_end_ts']]"
   ]
  },
  {
   "cell_type": "markdown",
   "id": "ec3591c4-4a17-48aa-a1d4-9f83257da915",
   "metadata": {},
   "source": [
    "> We will handle these 2 cases after detecting user patterns using the order dataset:\n",
    "> \n",
    "- Did they make any purchases? \n",
    "- Maybe some sites use Afisha like a gate for payments , etc"
   ]
  },
  {
   "attachments": {},
   "cell_type": "markdown",
   "id": "ff0360d7-9233-4bca-a4b2-81a471cd1e33",
   "metadata": {},
   "source": [
    ">**Conclusion:**\n",
    "\n",
    "- The `visits` table has 359,400  entries. \n",
    "- There is no missing values \n",
    "- There is no duplicated values \n",
    "- Users come from 9 `source_id`\n",
    "- Users used 2 types of devices, browser and mobile\n",
    "- There are 12 entries with `session_end_ts` out of scope\n",
    "- There are 2 entries with `session_start_ts` latter than `session_end_ts\n",
    "\n",
    "(*NB! in this version I did not remove outliers on this step!*)"
   ]
  },
  {
   "cell_type": "markdown",
   "id": "df4f16c9-3596-4f44-a7da-9be11dac9e4f",
   "metadata": {},
   "source": [
    "### The `orders_log_us` dataset"
   ]
  },
  {
   "cell_type": "markdown",
   "id": "6e5e710f",
   "metadata": {},
   "source": [
    "*Downloading the portion of data*"
   ]
  },
  {
   "cell_type": "code",
   "execution_count": null,
   "id": "d652e422-b932-4e35-8ac2-51f7638027aa",
   "metadata": {},
   "outputs": [],
   "source": [
    "orders_portion = pd.read_csv(os.path.join(source_dir, raw_orders),\n",
    "                          # parse_dates=['End Ts', 'Start Ts'],\n",
    "                          na_values=missing_values,\n",
    "                          nrows=100)\n",
    "\n",
    "orders_portion.info(memory_usage='deep')\n",
    "orders_portion.head()"
   ]
  },
  {
   "cell_type": "markdown",
   "id": "e1c72a6b-9ba8-41af-ab56-e61cfda5770f",
   "metadata": {},
   "source": [
    "*Downloading the the full orders dataset with correct datatype*"
   ]
  },
  {
   "cell_type": "code",
   "execution_count": null,
   "id": "29d9b079-5e5b-4c84-9ae8-5841604e2c60",
   "metadata": {},
   "outputs": [],
   "source": [
    "orders_orig = pd.read_csv(os.path.join(source_dir, raw_orders),\n",
    "                          dtype={'Uid': 'string'},\n",
    "                          parse_dates=['Buy Ts'],\n",
    "                          )\n",
    "# saving the original data set for comparing changes to be made\n",
    "df_orders = orders_orig.copy()"
   ]
  },
  {
   "cell_type": "markdown",
   "id": "80a58a43-899b-4d26-8df6-ed9c49e01339",
   "metadata": {},
   "source": [
    "#### Summary statistics"
   ]
  },
  {
   "cell_type": "code",
   "execution_count": null,
   "id": "6b26ec3c-d6bd-4779-8d41-53f0761aea6d",
   "metadata": {
    "ExecuteTime": {
     "end_time": "2022-03-20T12:10:27.888348Z",
     "start_time": "2022-03-20T12:10:27.857349Z"
    }
   },
   "outputs": [],
   "source": [
    "df_orders.shape\n",
    "df_orders.info()\n",
    "df_orders.head()\n",
    "df_orders.tail()\n",
    "df_orders.sample(5)"
   ]
  },
  {
   "cell_type": "code",
   "execution_count": null,
   "id": "75eaa66d-dd6c-4c0d-8f23-159bd5402d41",
   "metadata": {},
   "outputs": [],
   "source": [
    "df_orders.describe()"
   ]
  },
  {
   "cell_type": "code",
   "execution_count": null,
   "id": "e74d7c77-ce08-4c42-9ec2-3f1e2f6750b5",
   "metadata": {
    "ExecuteTime": {
     "end_time": "2022-03-20T12:10:27.903348Z",
     "start_time": "2022-03-20T12:10:27.889349Z"
    }
   },
   "outputs": [],
   "source": [
    "df_orders.isna().mean()"
   ]
  },
  {
   "cell_type": "code",
   "execution_count": null,
   "id": "33483460-3cb0-4ddf-aa4a-e91af7b4bfe9",
   "metadata": {},
   "outputs": [],
   "source": [
    "df_orders.duplicated().mean()"
   ]
  },
  {
   "cell_type": "markdown",
   "id": "9604513a-0f51-4cd1-b050-05b77583c19b",
   "metadata": {},
   "source": [
    "#### Data pre-processing"
   ]
  },
  {
   "cell_type": "markdown",
   "id": "146f512b-07d9-4ea5-897a-428bb0272531",
   "metadata": {},
   "source": [
    "*Converting column names to lowercase and replacing space with `_`:*"
   ]
  },
  {
   "cell_type": "code",
   "execution_count": null,
   "id": "b6511b97-156b-4fe6-92dc-0ab71e722228",
   "metadata": {
    "ExecuteTime": {
     "end_time": "2022-03-20T12:10:43.785632Z",
     "start_time": "2022-03-20T12:10:43.645630Z"
    }
   },
   "outputs": [],
   "source": [
    "df_orders.columns = df_orders.columns.str.lower().str.replace(' ', '_')\n",
    "df_orders.head()"
   ]
  },
  {
   "cell_type": "markdown",
   "id": "fa2fe978",
   "metadata": {},
   "source": [
    "*Reordering columns*"
   ]
  },
  {
   "cell_type": "code",
   "execution_count": null,
   "id": "d79364d6",
   "metadata": {},
   "outputs": [],
   "source": [
    "df_orders = df_orders.reindex(columns=['uid', 'buy_ts', 'revenue'])\n",
    "df_orders.head()"
   ]
  },
  {
   "cell_type": "markdown",
   "id": "77d49f9f-ed30-4314-ab2c-eef77b51773b",
   "metadata": {},
   "source": [
    "*Is `buy_ts` in scope of the project?*"
   ]
  },
  {
   "cell_type": "code",
   "execution_count": null,
   "id": "ce3e555e-0ec1-4429-b6e6-2cc648bf2c9f",
   "metadata": {
    "ExecuteTime": {
     "end_time": "2022-03-20T12:10:43.817630Z",
     "start_time": "2022-03-20T12:10:43.788629Z"
    }
   },
   "outputs": [],
   "source": [
    "df_orders[df_orders['buy_ts'] >= '2018-06-01 00:00:00']"
   ]
  },
  {
   "cell_type": "markdown",
   "id": "fac99975-3641-4ed4-9452-8846775b9cf2",
   "metadata": {},
   "source": [
    "> * In the `order` table, we only have 1 record, which is not included in our annual period. It should be deleted."
   ]
  },
  {
   "cell_type": "code",
   "execution_count": null,
   "id": "c548ba8d-7df2-48b6-8ff4-c2ac8e3b1055",
   "metadata": {
    "ExecuteTime": {
     "end_time": "2022-03-20T12:10:43.833631Z",
     "start_time": "2022-03-20T12:10:43.819629Z"
    }
   },
   "outputs": [],
   "source": [
    "df_orders = df_orders[df_orders['buy_ts'] < '2018-06-01 00:00:00']\n",
    "\n",
    "# verifying result\n",
    "df_orders[df_orders['buy_ts'] >= '2018-06-01 00:00:00']\n",
    "df_orders.buy_ts.max()"
   ]
  },
  {
   "cell_type": "markdown",
   "id": "da9a883b-a0de-4b25-915a-a7f6a5c7f6b2",
   "metadata": {},
   "source": [
    "*Does dataset contain Zero revenue?*"
   ]
  },
  {
   "cell_type": "code",
   "execution_count": null,
   "id": "a8a741e2-899a-4fcc-b3ad-dff3a49c1016",
   "metadata": {
    "ExecuteTime": {
     "end_time": "2022-03-20T12:10:43.849628Z",
     "start_time": "2022-03-20T12:10:43.835630Z"
    }
   },
   "outputs": [],
   "source": [
    "len(df_orders[df_orders['revenue'] <= 0])"
   ]
  },
  {
   "cell_type": "markdown",
   "id": "9783889c-ba8a-4249-ae8d-56f125e07e85",
   "metadata": {},
   "source": [
    "*The `revenue` variable contains 51 rows with zero value. It seems that these rows have no value for analysis and should be removed from the table.*\n",
    "\n",
    "Well, they could have value, because free tickets still count in conversion. But there are very few of them, so we can remain them in this case."
   ]
  },
  {
   "cell_type": "markdown",
   "id": "d24be102-4281-46de-9542-4364d9bf3cac",
   "metadata": {},
   "source": [
    "#### Distribution of revenue"
   ]
  },
  {
   "cell_type": "code",
   "execution_count": null,
   "id": "b1829936-b1cd-4c4c-b1d3-e11532cac64c",
   "metadata": {},
   "outputs": [],
   "source": [
    "df_orders['revenue'].mode()"
   ]
  },
  {
   "cell_type": "code",
   "execution_count": null,
   "id": "604f1b32-a206-403e-807f-256b844c25c0",
   "metadata": {},
   "outputs": [],
   "source": [
    "df_orders['revenue'].skew(skipna=True)"
   ]
  },
  {
   "cell_type": "markdown",
   "id": "4170a82e-fd4a-440c-adfc-ad44ec48e626",
   "metadata": {},
   "source": [
    "In general, revenue per purchasing is 1.83. *The revenue variable has a huge positive skewness 58.886451.*"
   ]
  },
  {
   "cell_type": "markdown",
   "id": "5396189c-194d-4b30-8dae-641995cf045f",
   "metadata": {},
   "source": [
    "*Revenue distribution plot*"
   ]
  },
  {
   "cell_type": "code",
   "execution_count": null,
   "id": "e1e5e77f-6b3e-4955-b3d6-e2d6c66f2ecd",
   "metadata": {},
   "outputs": [],
   "source": [
    "fig = px.histogram(df_orders, \n",
    "                   x=\"revenue\", \n",
    "                   nbins=20,\n",
    "                   title='Distribution of revenue',\n",
    "                   color_discrete_sequence=px.colors.sequential.Oryel\n",
    "                  )\n",
    "fig.show()"
   ]
  },
  {
   "cell_type": "markdown",
   "id": "ba2b2acf-bf05-4cca-8dfa-24d194885a8d",
   "metadata": {},
   "source": [
    "#### Examine outliers"
   ]
  },
  {
   "cell_type": "code",
   "execution_count": null,
   "id": "836b5e4e-1213-4b16-ba88-d298c83b6356",
   "metadata": {},
   "outputs": [],
   "source": [
    "fig = px.box(df_orders, \n",
    "                   x=\"revenue\",\n",
    "                   title='Distribution of revenue',\n",
    "                   color_discrete_sequence=px.colors.sequential.Oryel\n",
    "                  )\n",
    "fig.show()"
   ]
  },
  {
   "cell_type": "markdown",
   "id": "7ac0c865",
   "metadata": {},
   "source": [
    "*Replacing `income` values of 0.95 quantiles with the most frequently occurring value*"
   ]
  },
  {
   "cell_type": "code",
   "execution_count": null,
   "id": "b7d688a2",
   "metadata": {},
   "outputs": [],
   "source": [
    "quantile_val = df_orders['revenue'].quantile(0.95)\n",
    "quantile_val\n",
    "\n",
    "mode_val = df_orders['revenue'].mode()\n",
    "mode_val "
   ]
  },
  {
   "cell_type": "code",
   "execution_count": null,
   "id": "899c903d",
   "metadata": {},
   "outputs": [],
   "source": [
    "df_orders['revenue'] = np.where(\n",
    "    df_orders['revenue'] > quantile_val, mode_val, df_orders['revenue'])"
   ]
  },
  {
   "cell_type": "code",
   "execution_count": null,
   "id": "4d23d1e5",
   "metadata": {},
   "outputs": [],
   "source": [
    "fig = px.box(df_orders, \n",
    "                   x=\"revenue\",\n",
    "                   title='Distribution of revenue',\n",
    "                   color_discrete_sequence=px.colors.sequential.Oryel\n",
    "                  )\n",
    "fig.show()"
   ]
  },
  {
   "cell_type": "code",
   "execution_count": null,
   "id": "89140364",
   "metadata": {},
   "outputs": [],
   "source": [
    "df_orders['revenue'].describe()"
   ]
  },
  {
   "cell_type": "code",
   "execution_count": null,
   "id": "a22be3af",
   "metadata": {},
   "outputs": [],
   "source": [
    "df_orders[df_orders['revenue'] > 9].shape[0] / df_orders.shape[0]"
   ]
  },
  {
   "cell_type": "markdown",
   "id": "ff3eff85-235f-4dd9-975e-e2621779d859",
   "metadata": {},
   "source": [
    "On the one hand, an average `revenue` from purchase is 3.22, and mode is 1.83. And as many as 13.75 (max `revenue`) may seem like weird value. And as the boxplot shows, we can decide that all revenues above 9 are emissions (3.25 % of dataset).\n",
    "\n",
    "On the other hand, in order to decide whether they are outliers or not and remove them, I would like to know more about the business domain. Now let's remain them in the dataset."
   ]
  },
  {
   "cell_type": "markdown",
   "id": "4819658c",
   "metadata": {},
   "source": [
    ">Both datasets, `visits` and `orders`, lack the very important \"id truncation\" fields. \n",
    "\n",
    "However, we have to ensure that all users who have purchased products are represented in the `visits` table."
   ]
  },
  {
   "cell_type": "code",
   "execution_count": null,
   "id": "6f34e317",
   "metadata": {},
   "outputs": [],
   "source": [
    "df_orders[~df_orders['uid'].isin(df_visits['uid'])]"
   ]
  },
  {
   "cell_type": "markdown",
   "id": "d31da59a",
   "metadata": {},
   "source": [
    "*All the buyers are represented in the `visit` table*"
   ]
  },
  {
   "cell_type": "markdown",
   "id": "d860dd19",
   "metadata": {},
   "source": [
    "### Merging the `visits` and `orders` dataframes using pandasql library\n",
    "\n",
    "https://pypi.org/project/pandasql/"
   ]
  },
  {
   "cell_type": "code",
   "execution_count": null,
   "id": "db0bbb82",
   "metadata": {},
   "outputs": [],
   "source": [
    "q = \"\"\"SELECT V.uid,\n",
    "V.device,\n",
    "V.source_id, \n",
    "V.session_start_ts, \n",
    "V.session_end_ts,\n",
    "O.buy_ts, \n",
    "O.revenue\n",
    "FROM df_visits as V \n",
    "LEFT JOIN df_orders as O \n",
    "ON V.uid = O.uid\n",
    "AND O.buy_ts BETWEEN V.session_start_ts AND V.session_end_ts\n",
    "\"\"\""
   ]
  },
  {
   "cell_type": "code",
   "execution_count": null,
   "id": "4ff3b9cf",
   "metadata": {},
   "outputs": [],
   "source": [
    "_df_visits_left = sqldf(q)\n",
    "_df_visits_left.sample(10)"
   ]
  },
  {
   "cell_type": "code",
   "execution_count": null,
   "id": "a20dfc11",
   "metadata": {},
   "outputs": [],
   "source": [
    "q = \"\"\"SELECT O.uid, \n",
    "V.device,\n",
    "V.source_id, \n",
    "V.session_start_ts, \n",
    "V.session_end_ts,\n",
    "O.buy_ts, \n",
    "O.revenue\n",
    "FROM df_orders as O  \n",
    "LEFT JOIN df_visits as V \n",
    "ON V.uid = O.uid\n",
    "AND O.buy_ts BETWEEN V.session_start_ts AND V.session_end_ts\n",
    "\"\"\""
   ]
  },
  {
   "cell_type": "code",
   "execution_count": null,
   "id": "7d173680",
   "metadata": {},
   "outputs": [],
   "source": [
    "_df_orders_left = sqldf(q)\n",
    "_df_orders_left.sample(10)"
   ]
  },
  {
   "cell_type": "code",
   "execution_count": null,
   "id": "c7f3c244",
   "metadata": {},
   "outputs": [],
   "source": [
    "df_users = pd.concat([_df_visits_left,_df_orders_left], ignore_index=True).drop_duplicates()"
   ]
  },
  {
   "cell_type": "code",
   "execution_count": null,
   "id": "7d52db9b",
   "metadata": {},
   "outputs": [],
   "source": [
    "df_users.sample(10)"
   ]
  },
  {
   "cell_type": "markdown",
   "id": "9865531f",
   "metadata": {},
   "source": [
    "*Verifying the control sums after merging DataFrames*"
   ]
  },
  {
   "cell_type": "code",
   "execution_count": null,
   "id": "cf11c557",
   "metadata": {},
   "outputs": [],
   "source": [
    "df_orders['revenue'].sum()\n",
    "df_users['revenue'].sum()"
   ]
  },
  {
   "cell_type": "code",
   "execution_count": null,
   "id": "85a46101",
   "metadata": {},
   "outputs": [],
   "source": [
    "df_visits['uid'].count()\n",
    "df_users['uid'].count()\n",
    "\n",
    "df_visits['uid'].nunique()\n",
    "df_users['uid'].nunique()"
   ]
  },
  {
   "cell_type": "code",
   "execution_count": null,
   "id": "bc27c40a",
   "metadata": {},
   "outputs": [],
   "source": [
    "df_visits['session_start_ts'].count()\n",
    "\n",
    "df_users['session_start_ts'].count()"
   ]
  },
  {
   "cell_type": "code",
   "execution_count": null,
   "id": "a0fba335",
   "metadata": {},
   "outputs": [],
   "source": [
    "df_users.duplicated().sum()"
   ]
  },
  {
   "cell_type": "markdown",
   "id": "e3bf1abf",
   "metadata": {},
   "source": [
    "#### *Handling null values in the DataFrame `df_users`*"
   ]
  },
  {
   "cell_type": "code",
   "execution_count": null,
   "id": "95cafab0",
   "metadata": {},
   "outputs": [],
   "source": [
    "df_users.isna().mean()"
   ]
  },
  {
   "cell_type": "code",
   "execution_count": null,
   "id": "163e36c8",
   "metadata": {},
   "outputs": [],
   "source": [
    "df_users['revenue'] = df_users['revenue'].fillna(0)"
   ]
  },
  {
   "cell_type": "markdown",
   "id": "ad8fc60e",
   "metadata": {},
   "source": [
    "*As mentioned above, there are users who made purchases through sites using Afisha as a payment gateway.*\n",
    "\n",
    "*In this case we can fill Null values in `session_start_ts` and in `session_end_ts` with the `buy_ts`*"
   ]
  },
  {
   "cell_type": "code",
   "execution_count": null,
   "id": "ece5a6dc",
   "metadata": {},
   "outputs": [],
   "source": [
    "df_users['session_start_ts'] = df_users['session_start_ts'].fillna(df_users['buy_ts'])\n",
    "df_users['session_end_ts'] = df_users['session_end_ts'].fillna(df_users['buy_ts'])"
   ]
  },
  {
   "cell_type": "markdown",
   "id": "02b74265",
   "metadata": {},
   "source": [
    "*Filling Null of `device` with values `unknown`*"
   ]
  },
  {
   "cell_type": "code",
   "execution_count": null,
   "id": "99247f4e",
   "metadata": {},
   "outputs": [],
   "source": [
    "df_users['device'].fillna('unknown', inplace=True)"
   ]
  },
  {
   "cell_type": "markdown",
   "id": "d49eb278",
   "metadata": {},
   "source": [
    "*Filling Null of `source_id` with any other unique value*"
   ]
  },
  {
   "cell_type": "code",
   "execution_count": null,
   "id": "93e5fde8",
   "metadata": {},
   "outputs": [],
   "source": [
    "df_users['source_id'].unique()"
   ]
  },
  {
   "cell_type": "code",
   "execution_count": null,
   "id": "eae69b56",
   "metadata": {},
   "outputs": [],
   "source": [
    "df_users['source_id'].fillna(0, inplace=True)"
   ]
  },
  {
   "cell_type": "code",
   "execution_count": null,
   "id": "ae8bb1a5",
   "metadata": {},
   "outputs": [],
   "source": [
    "df_users['source_id'].unique()"
   ]
  },
  {
   "cell_type": "code",
   "execution_count": null,
   "id": "9d02cc20",
   "metadata": {},
   "outputs": [],
   "source": [
    "df_users.isna().mean()"
   ]
  },
  {
   "cell_type": "markdown",
   "id": "9d158e66",
   "metadata": {},
   "source": [
    "*`buy_ts` will be left with Null values for obvious reasons*"
   ]
  },
  {
   "cell_type": "markdown",
   "id": "648f3234",
   "metadata": {},
   "source": [
    "#### *Handling data types*"
   ]
  },
  {
   "cell_type": "code",
   "execution_count": null,
   "id": "85f73391",
   "metadata": {},
   "outputs": [],
   "source": [
    "df_users.info()"
   ]
  },
  {
   "cell_type": "markdown",
   "id": "3df144b0",
   "metadata": {},
   "source": [
    "*Converting `device` and `source_id` values to category*"
   ]
  },
  {
   "cell_type": "code",
   "execution_count": null,
   "id": "67886a64",
   "metadata": {},
   "outputs": [],
   "source": [
    "df_users['device'] = helpers.dtype_converter(df_users['device'], 'category')\n",
    "df_users['source_id'] = helpers.dtype_converter(df_users['source_id'], 'category')"
   ]
  },
  {
   "cell_type": "markdown",
   "id": "8740aa42",
   "metadata": {},
   "source": [
    "*Converting datetime object to datetime format*"
   ]
  },
  {
   "cell_type": "code",
   "execution_count": null,
   "id": "4a944911",
   "metadata": {},
   "outputs": [],
   "source": [
    "df_users['session_start_ts'] =pd.to_datetime(df_users['session_start_ts'], format='ISO8601')\n",
    "df_users['session_end_ts'] =pd.to_datetime(df_users['session_end_ts'], format='ISO8601')\n",
    "df_users['buy_ts'] =pd.to_datetime(df_users['buy_ts'], format='ISO8601')"
   ]
  },
  {
   "cell_type": "code",
   "execution_count": null,
   "id": "dd07b910",
   "metadata": {},
   "outputs": [],
   "source": [
    "df_users.info()"
   ]
  },
  {
   "cell_type": "code",
   "execution_count": null,
   "id": "43c523d9",
   "metadata": {},
   "outputs": [],
   "source": [
    "df_users.sample(10)"
   ]
  },
  {
   "cell_type": "markdown",
   "id": "decc70cf",
   "metadata": {},
   "source": [
    "*Processing records outside the scope of the project*"
   ]
  },
  {
   "cell_type": "code",
   "execution_count": null,
   "id": "25636a0d",
   "metadata": {},
   "outputs": [],
   "source": [
    "df_users[(df_users['session_start_ts'] > '2018-06-01') | (df_users['session_end_ts'] > '2018-06-01') | (df_users['buy_ts'] > '2018-06-01')]"
   ]
  },
  {
   "cell_type": "markdown",
   "id": "276987fe",
   "metadata": {},
   "source": [
    "> There are 11 entries in the `df_users` table where `sesstion_end_ts` is out of scope for the project.\n",
    "\n",
    "Note! During 3 of them, purchases were made within our project time. \n",
    "\n",
    "It is crucial to not ignore them. All other inputs can be eliminated.\n"
   ]
  },
  {
   "cell_type": "code",
   "execution_count": null,
   "id": "4d817e7a",
   "metadata": {},
   "outputs": [],
   "source": [
    "# records to be deleted\n",
    "\n",
    "df_users[(df_users['session_end_ts'] > '2018-06-01') & (df_users['buy_ts'].isna())]"
   ]
  },
  {
   "cell_type": "code",
   "execution_count": null,
   "id": "05e790a1",
   "metadata": {},
   "outputs": [],
   "source": [
    "indx = df_users.index[(df_users['session_end_ts'] > '2018-06-01') & (df_users['buy_ts'].isna())].tolist()\n",
    "indx"
   ]
  },
  {
   "cell_type": "code",
   "execution_count": null,
   "id": "94dfca04",
   "metadata": {},
   "outputs": [],
   "source": [
    "df_users = df_users[~df_users.index.isin(indx)]"
   ]
  },
  {
   "cell_type": "code",
   "execution_count": null,
   "id": "88709b4f",
   "metadata": {},
   "outputs": [],
   "source": [
    "# verifying the result\n",
    "\n",
    "df_users[(df_users['session_end_ts'] > '2018-06-01') & (df_users['buy_ts'].isna())].shape[0]"
   ]
  },
  {
   "cell_type": "markdown",
   "id": "380d897e",
   "metadata": {},
   "source": [
    "### Adding the new column `session_duration_sec` to the table"
   ]
  },
  {
   "cell_type": "code",
   "execution_count": null,
   "id": "4300fe95",
   "metadata": {},
   "outputs": [],
   "source": [
    "df_users['session_duration_sec'] = helpers.time_diff(df_users['session_end_ts'], df_users['session_start_ts'], 'seconds')"
   ]
  },
  {
   "cell_type": "code",
   "execution_count": null,
   "metadata": {},
   "outputs": [],
   "source": [
    "df_users.sample(10)\n",
    "df_users['session_duration_sec'].mode()\n",
    "df_users['session_duration_sec'].describe()\n",
    "df_users['session_duration_sec'].skew(skipna=True)\n",
    "(df_users.query('session_duration_sec == 0')).shape[0] / df_visits.shape[0]"
   ]
  },
  {
   "cell_type": "markdown",
   "id": "055263c7",
   "metadata": {},
   "source": [
    "*The most common session duration value is 60 seconds, the median value is 618.55 and the positive skewness is 8.53.*\n",
    "\n",
    "*13.99% of sessions are 0 seconds long.*\n",
    "\n",
    "*Maximum of duration - 84480 seconds that is equal to 23 hours and more...* 🤔\n",
    "\n",
    "*And, we have a big positive skewness. That means there are the outliers. It is important to understand if they need to be removed or corrected.* \n",
    "\n",
    "*It would be useful to study the distribution of this quantity.*"
   ]
  },
  {
   "cell_type": "code",
   "execution_count": null,
   "id": "179e849e",
   "metadata": {},
   "outputs": [],
   "source": [
    "fig = px.histogram(df_users, \n",
    "                   x=\"session_duration_sec\", \n",
    "                   nbins=30,\n",
    "                   title='Distribution of session duration in seconds',\n",
    "                   color_discrete_sequence=px.colors.sequential.Oryel\n",
    "                  )\n",
    "fig.show()"
   ]
  },
  {
   "cell_type": "code",
   "execution_count": null,
   "id": "7f00f7ed",
   "metadata": {},
   "outputs": [],
   "source": [
    "fig = px.box(df_users, \n",
    "                   x=\"session_duration_sec\",\n",
    "                   y='device',\n",
    "                   title='Distribution of session duration in seconds',\n",
    "                   color_discrete_sequence=px.colors.sequential.Oryel\n",
    "                  )\n",
    "fig.show()"
   ]
  },
  {
   "cell_type": "markdown",
   "id": "80a9c290",
   "metadata": {},
   "source": [
    "#### Replacing outlieers with the median\n",
    "\n",
    "https://www.pluralsight.com/guides/cleaning-up-data-from-outliers"
   ]
  },
  {
   "cell_type": "code",
   "execution_count": null,
   "id": "fcce7e28",
   "metadata": {},
   "outputs": [],
   "source": [
    "quantile_95_session = df_users['session_duration_sec'].quantile(0.95).astype('int')\n",
    "quantile_95_session"
   ]
  },
  {
   "cell_type": "code",
   "execution_count": null,
   "id": "c1ad30d7",
   "metadata": {},
   "outputs": [],
   "source": [
    "median_session_duration = df_users['session_duration_sec'].median().astype('int')\n",
    "median_session_duration"
   ]
  },
  {
   "cell_type": "code",
   "execution_count": null,
   "id": "609a8fc8",
   "metadata": {},
   "outputs": [],
   "source": [
    "df_users['session_duration_sec'] = np.where(\n",
    "    df_users['session_duration_sec'] > quantile_95_session,\n",
    "    median_session_duration,\n",
    "    df_users['session_duration_sec'])"
   ]
  },
  {
   "cell_type": "code",
   "execution_count": null,
   "id": "80b117fd",
   "metadata": {},
   "outputs": [],
   "source": [
    "fig = px.box(df_users, \n",
    "                   x=\"session_duration_sec\",\n",
    "                   y='device',\n",
    "                   title='Distribution of session duration in seconds',\n",
    "                   color_discrete_sequence=px.colors.sequential.Oryel\n",
    "                  )\n",
    "fig.show()"
   ]
  },
  {
   "cell_type": "markdown",
   "id": "146aa178",
   "metadata": {},
   "source": [
    "*Summary statistics of `df_users` dataframe*"
   ]
  },
  {
   "cell_type": "code",
   "execution_count": null,
   "id": "b90eeedd",
   "metadata": {},
   "outputs": [],
   "source": [
    "df_users.describe()\n",
    "df_users.info()"
   ]
  },
  {
   "cell_type": "markdown",
   "id": "4541cd0e-c853-46c7-8fe4-2d43d7c1e07f",
   "metadata": {},
   "source": [
    ">Conclusion:\n",
    "\n",
    "- After preprocessing the `df_users` datasets has 373880 entries.\n",
    "- There are 50414 purchases. \n",
    "- There are no duplicates.\n",
    "- The Null values are presented only in the `buy_ts` series.\n",
    "- There are no values out of scope of the priject."
   ]
  },
  {
   "cell_type": "markdown",
   "id": "4041abb3-efcc-46d6-98d3-33f3611a953a",
   "metadata": {},
   "source": [
    "### The `costs_us` dataset"
   ]
  },
  {
   "cell_type": "code",
   "execution_count": null,
   "id": "e50eec39-032c-4b9c-bda1-7cbc979dad01",
   "metadata": {
    "ExecuteTime": {
     "end_time": "2022-03-20T12:10:27.935347Z",
     "start_time": "2022-03-20T12:10:27.904349Z"
    }
   },
   "outputs": [],
   "source": [
    "df_costs_origin = pd.read_csv(os.path.join(source_dir, raw_costs),\n",
    "                    na_values=missing_values,\n",
    "                    parse_dates=['dt'])\n",
    "\n",
    "# saving the original data set for comparing changes to be made\n",
    "df_costs = df_costs_origin.copy()"
   ]
  },
  {
   "cell_type": "markdown",
   "id": "dd9b3afe-2bf7-4ff7-a665-ef96cd8e2f66",
   "metadata": {},
   "source": [
    "#### Summary statistics"
   ]
  },
  {
   "cell_type": "code",
   "execution_count": null,
   "id": "a6e75886-7d40-46ff-b508-2082ee57c558",
   "metadata": {
    "ExecuteTime": {
     "end_time": "2022-03-20T12:10:27.966349Z",
     "start_time": "2022-03-20T12:10:27.937349Z"
    }
   },
   "outputs": [],
   "source": [
    "df_costs.info()\n",
    "df_costs.head()\n",
    "df_costs.tail()\n",
    "df_costs.sample(5)"
   ]
  },
  {
   "cell_type": "code",
   "execution_count": null,
   "id": "116f9058-bcfc-4f54-a878-38fe2fef4da7",
   "metadata": {},
   "outputs": [],
   "source": [
    "df_costs.describe()"
   ]
  },
  {
   "cell_type": "code",
   "execution_count": null,
   "id": "e177288d-914c-4a92-807f-d04ef3e87e51",
   "metadata": {
    "ExecuteTime": {
     "end_time": "2022-03-20T12:10:27.981348Z",
     "start_time": "2022-03-20T12:10:27.967349Z"
    }
   },
   "outputs": [],
   "source": [
    "df_costs.isna().mean()"
   ]
  },
  {
   "cell_type": "code",
   "execution_count": null,
   "id": "34dcea47-1dcd-42ec-aa77-93f4b1c85317",
   "metadata": {},
   "outputs": [],
   "source": [
    "df_costs.duplicated().mean()"
   ]
  },
  {
   "cell_type": "code",
   "execution_count": null,
   "id": "719ed995-6a96-446a-9d29-a429e9f09537",
   "metadata": {
    "ExecuteTime": {
     "end_time": "2022-03-20T12:10:27.966349Z",
     "start_time": "2022-03-20T12:10:27.937349Z"
    }
   },
   "outputs": [],
   "source": [
    "df_costs.source_id.nunique()\n",
    "df_costs.source_id.value_counts()"
   ]
  },
  {
   "cell_type": "markdown",
   "id": "afc3730d-7285-4a7e-b352-214f8d4dd2e7",
   "metadata": {},
   "source": [
    ">The `costs` data contains Marketing expenses statistics\n",
    "<br> The table has 2542 records of information on the expenses on the ad source on a specific day.\n",
    "<br>There is no Nal and duplicated values."
   ]
  },
  {
   "cell_type": "markdown",
   "id": "e22bedb0-e889-418d-8e6a-2c4222195506",
   "metadata": {},
   "source": [
    "#### Data pre-processing"
   ]
  },
  {
   "cell_type": "markdown",
   "id": "afdb08e2-8c6a-405b-ab79-da5718ca8e45",
   "metadata": {},
   "source": [
    "*To make the dataset variables more readable let's rename `dt` column:*"
   ]
  },
  {
   "cell_type": "code",
   "execution_count": null,
   "id": "ed43b653-370f-4f4a-968e-77206d14f51a",
   "metadata": {},
   "outputs": [],
   "source": [
    "df_costs.head()"
   ]
  },
  {
   "cell_type": "code",
   "execution_count": null,
   "id": "cfcb70b1-69c8-4cd9-b5a4-99bac33510e3",
   "metadata": {
    "ExecuteTime": {
     "end_time": "2022-03-20T12:10:45.506816Z",
     "start_time": "2022-03-20T12:10:45.460817Z"
    }
   },
   "outputs": [],
   "source": [
    "df_costs.rename(columns={'dt': 'costs_date'}, inplace=True)\n",
    "df_costs.head()"
   ]
  },
  {
   "cell_type": "code",
   "execution_count": null,
   "id": "20c49e94-a95d-449a-a0aa-45a9ee593f34",
   "metadata": {},
   "outputs": [],
   "source": [
    "fig = px.histogram(df_costs, \n",
    "                   x=\"costs\", \n",
    "                   nbins=20,\n",
    "                   title='Distribution of costs',\n",
    "                   color_discrete_sequence=px.colors.sequential.Oryel\n",
    "                  )\n",
    "fig.show()"
   ]
  },
  {
   "cell_type": "code",
   "execution_count": null,
   "metadata": {},
   "outputs": [],
   "source": [
    "_costs = df_costs.groupby('source_id')['costs'].sum().reset_index()\n",
    "_costs"
   ]
  },
  {
   "cell_type": "code",
   "execution_count": null,
   "id": "9f4eabc6",
   "metadata": {},
   "outputs": [],
   "source": [
    "fig = px.bar(_costs.sort_values(by='source_id', ascending=True),                    \n",
    "                   x='source_id',\n",
    "                   y=\"costs\",\n",
    "                   title='Distribution of costs by source_id',\n",
    "                   color_discrete_sequence=px.colors.sequential.Oryel\n",
    "                  )\n",
    "fig.show()"
   ]
  },
  {
   "cell_type": "markdown",
   "id": "750ed18f",
   "metadata": {},
   "source": [
    "*There are costs associated with 7 ID sources. The greatest expense was incurred by ID source #3, while the smallest expenses were for ID sources #9 and #10.*"
   ]
  },
  {
   "cell_type": "code",
   "execution_count": null,
   "id": "dddffa7b",
   "metadata": {},
   "outputs": [],
   "source": [
    "df_users.sample(5)"
   ]
  },
  {
   "cell_type": "markdown",
   "id": "33f78049-eed3-4e55-b618-b62cc9edc0b0",
   "metadata": {},
   "source": [
    ">Conclusion:\n",
    "\n",
    "- The `costs` dataset has 2482 entries.\n",
    "- More than 3/4 of all costs are allocated between the 3rd, 4th, and 5th \"source_id\". Moreover, the 3rd `source_id` costs more than the 4th and 5th together.\n",
    "- There is no expense on the 6th, 7th, and 8th `source_id`.\n",
    "- There is no duplicates in the table."
   ]
  },
  {
   "cell_type": "markdown",
   "id": "87432d63-38b5-4051-85fc-fea2311417c0",
   "metadata": {},
   "source": [
    "### Save pre-processed data to csv"
   ]
  },
  {
   "cell_type": "code",
   "execution_count": null,
   "id": "89d374c8-339c-49e8-8446-7f4a025e32c5",
   "metadata": {},
   "outputs": [],
   "source": [
    "path_to_save = './data/processed/'\n",
    "file_users = 'users_processed.csv'\n",
    "file_costs = 'costs_processed.csv'"
   ]
  },
  {
   "cell_type": "code",
   "execution_count": null,
   "id": "5b92f14c-3910-4dda-b20e-cef5b725a25c",
   "metadata": {},
   "outputs": [],
   "source": [
    "df_users.to_csv(os.path.join(path_to_save, file_users)\n",
    "                ,sep=','\n",
    "                ,encoding='utf-8'\n",
    "                ,index=False)"
   ]
  },
  {
   "cell_type": "code",
   "execution_count": null,
   "id": "6544d17e",
   "metadata": {},
   "outputs": [],
   "source": [
    "df_costs.to_csv(os.path.join(path_to_save, file_costs), sep=',', encoding='utf-8', index=False)"
   ]
  },
  {
   "cell_type": "markdown",
   "id": "6999b4be-1484-47a1-a4aa-eebf6f989eb7",
   "metadata": {},
   "source": [
    "## End"
   ]
  }
 ],
 "metadata": {
  "kernelspec": {
   "display_name": "Python 3 (ipykernel)",
   "language": "python",
   "name": "python3"
  },
  "language_info": {
   "codemirror_mode": {
    "name": "ipython",
    "version": 3
   },
   "file_extension": ".py",
   "mimetype": "text/x-python",
   "name": "python",
   "nbconvert_exporter": "python",
   "pygments_lexer": "ipython3",
   "version": "3.9.16"
  },
  "widgets": {
   "application/vnd.jupyter.widget-state+json": {
    "state": {},
    "version_major": 2,
    "version_minor": 0
   }
  }
 },
 "nbformat": 4,
 "nbformat_minor": 5
}

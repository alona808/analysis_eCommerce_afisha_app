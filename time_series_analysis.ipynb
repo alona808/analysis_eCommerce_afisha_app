{
 "cells": [
  {
   "cell_type": "markdown",
   "metadata": {},
   "source": [
    "# Time Series Analysis"
   ]
  },
  {
   "cell_type": "markdown",
   "metadata": {},
   "source": [
    "## Import Libraries"
   ]
  },
  {
   "cell_type": "code",
   "execution_count": null,
   "metadata": {},
   "outputs": [],
   "source": [
    "import os\n",
    "import numpy as np\n",
    "import pandas as pd\n",
    "import datetime as dt\n",
    "\n",
    "from sklearn.linear_model import LinearRegression\n",
    "from statsmodels.tsa.deterministic import DeterministicProcess\n",
    "\n",
    "from pathlib import Path\n",
    "from warnings import simplefilter\n",
    "# ignore warnings to clean up output cells\n",
    "simplefilter(\"ignore\")  \n",
    "\n",
    "# visualization\n",
    "import matplotlib.pyplot as plt\n",
    "import plotly.express as px\n",
    "import plotly.figure_factory as ff\n",
    "import plotly.graph_objects as go\n",
    "import plotly.io as pio\n",
    "import seaborn as sns\n",
    "\n",
    "# to print all the outputs in the cell\n",
    "from IPython.core.interactiveshell import InteractiveShell\n",
    "InteractiveShell.ast_node_interactivity = \"all\"\n",
    "\n",
    "# to show warnings only once:\n",
    "import warnings; warnings.filterwarnings(action='once')"
   ]
  },
  {
   "cell_type": "markdown",
   "metadata": {},
   "source": [
    "## Some additional settings"
   ]
  },
  {
   "cell_type": "code",
   "execution_count": null,
   "metadata": {},
   "outputs": [],
   "source": [
    "# adjusting columns width & number of chars\n",
    "pd.set_option('display.width', 1200)\n",
    "pd.set_option('max_colwidth', 500)\n",
    "\n",
    "# set pandas max columns and rows to print\n",
    "pd.set_option('display.max_columns', 50)\n",
    "pd.set_option('display.max_rows', 50)\n",
    "\n",
    "# settings for Vizs\n",
    "plt.style.use(\"dark_background\")\n",
    "# plt.style.use(\"seaborn-whitegrid\")\n",
    "\n",
    "plt.rc(\n",
    "    \"figure\",\n",
    "    autolayout=True,\n",
    "    figsize=(11, 4),\n",
    "    titlesize=18,\n",
    "    titleweight='bold',\n",
    ")\n",
    "plt.rc(\n",
    "    \"axes\",\n",
    "    labelweight=\"bold\",\n",
    "    labelsize=\"large\",\n",
    "    titleweight=\"bold\",\n",
    "    titlesize=16,\n",
    "    titlepad=10,\n",
    ")\n",
    "plot_params = dict(\n",
    "    color=\"0.75\",\n",
    "    style=\".-\",\n",
    "    markeredgecolor=\"0.25\",\n",
    "    markerfacecolor=\"0.25\",\n",
    "    legend=False,\n",
    ")\n",
    "%config InlineBackend.figure_format = 'retina'"
   ]
  },
  {
   "cell_type": "code",
   "execution_count": null,
   "metadata": {},
   "outputs": [],
   "source": [
    "pio.templates.default = \"simple_white\"\n",
    "\n",
    "px.defaults.template = \"plotly_dark\"\n",
    "px.defaults.color_continuous_scale = px.colors.sequential.Blackbody\n",
    "px.defaults.width = 800\n",
    "px.defaults.height = 500\n",
    "color_discrete_sequence=px.colors.sequential.Oryel"
   ]
  },
  {
   "cell_type": "markdown",
   "metadata": {},
   "source": [
    "## Linear Regression with time series"
   ]
  },
  {
   "cell_type": "markdown",
   "metadata": {},
   "source": [
    "`Download the data`"
   ]
  },
  {
   "cell_type": "code",
   "execution_count": null,
   "metadata": {},
   "outputs": [],
   "source": [
    "source_dir = './reports/'\n",
    "\n",
    "# files to download:\n",
    "file_users_daily = 'at_users_daily.csv'"
   ]
  },
  {
   "cell_type": "code",
   "execution_count": null,
   "metadata": {},
   "outputs": [],
   "source": [
    "users_daily = pd.read_csv(os.path.join(source_dir, file_users_daily)\n",
    "                       ,parse_dates=['visit_date', 'week_start_monday', 'visit_month']\n",
    "                    #    ,dtype={'device': 'category', 'source_id': 'int'}\n",
    "                       )"
   ]
  },
  {
   "cell_type": "code",
   "execution_count": null,
   "metadata": {},
   "outputs": [],
   "source": [
    "df_users_daily = users_daily.copy()"
   ]
  },
  {
   "cell_type": "code",
   "execution_count": null,
   "metadata": {},
   "outputs": [],
   "source": [
    "df_users_daily.info()"
   ]
  },
  {
   "cell_type": "code",
   "execution_count": null,
   "metadata": {},
   "outputs": [],
   "source": [
    "df_users_daily = df_users_daily.rename(columns={'orders_count': 'orders', 'revenue_sum': 'revenue'})\n",
    "df_users_daily.head()"
   ]
  },
  {
   "cell_type": "code",
   "execution_count": null,
   "metadata": {},
   "outputs": [],
   "source": [
    "df_dau = df_users_daily[['visit_date', 'dau', 'orders']].set_index('visit_date')\n",
    "df_dau.head()"
   ]
  },
  {
   "cell_type": "markdown",
   "metadata": {},
   "source": [
    "### Linear Regression of DAU"
   ]
  },
  {
   "cell_type": "markdown",
   "metadata": {},
   "source": [
    "`Time-step features for DAU`"
   ]
  },
  {
   "cell_type": "code",
   "execution_count": null,
   "metadata": {},
   "outputs": [],
   "source": [
    "df_dau['time'] = np.arange(len(df_dau.index))\n",
    "df_dau = df_dau.reindex(columns=['time', 'dau', 'orders'])\n",
    "df_dau.head()"
   ]
  },
  {
   "cell_type": "code",
   "execution_count": null,
   "metadata": {},
   "outputs": [],
   "source": [
    "fig, ax = plt.subplots()\n",
    "ax.plot('time', 'dau', data=df_dau, color='0.50')\n",
    "ax = sns.regplot(x='time', y='dau', data=df_dau, ci=None, scatter_kws=dict(color='0.75'))\n",
    "ax.set_title('Time plot of DAU (Daily Active Unique Users)')"
   ]
  },
  {
   "cell_type": "markdown",
   "metadata": {},
   "source": [
    "`Lag features for DAU`\n",
    "\n",
    "Linear regression with a lag feature produces the model:\n",
    "\n",
    "target = weight * lag + bias\n",
    "\n",
    "More generally, lag features let you model serial dependence."
   ]
  },
  {
   "cell_type": "code",
   "execution_count": null,
   "metadata": {},
   "outputs": [],
   "source": [
    "df_dau['lag_dau'] = df_dau['dau'].shift(periods=1, fill_value=0).astype(int)\n",
    "df_dau['lag_orders'] = df_dau['orders'].shift(periods=1, fill_value=0).astype(int)\n",
    "\n",
    "df_dau.head()"
   ]
  },
  {
   "cell_type": "code",
   "execution_count": null,
   "metadata": {},
   "outputs": [],
   "source": [
    "fig, ax = plt.subplots()\n",
    "ax = sns.regplot(x='lag_dau', y='dau', data=df_dau, ci=None, scatter_kws=dict(color='0.75'))\n",
    "ax.set_aspect('equal')\n",
    "ax.set_title('Lag Plot of DAU (Daily Active Unique Users)')"
   ]
  },
  {
   "cell_type": "markdown",
   "metadata": {},
   "source": [
    "`Linear Regression Model for DAU`\n",
    "\n",
    "`The procedure for fitting a linear regression model follows the standard steps for scikit-learn.`"
   ]
  },
  {
   "cell_type": "code",
   "execution_count": null,
   "metadata": {},
   "outputs": [],
   "source": [
    "X_dau = df_dau.loc[:, ['time']] # feature\n",
    "y_dau = df_dau.loc[:, 'dau'] # target value\n",
    "\n",
    "# Train the model\n",
    "\n",
    "model = LinearRegression()\n",
    "model.fit(X_dau, y_dau)\n",
    "\n",
    "# Store the fitted values as a time series with the same time index as\n",
    "# the training data\n",
    "\n",
    "y_pred_dau = pd.Series(model.predict(X_dau), index=X_dau.index)"
   ]
  },
  {
   "cell_type": "code",
   "execution_count": null,
   "metadata": {},
   "outputs": [],
   "source": [
    "ax = y_dau.plot(**plot_params)\n",
    "ax = y_pred_dau.plot(ax=ax, linewidth=2)\n",
    "ax.set_title('Time Plot of Fitted Values of DAU (Daily Active Unique Users)')"
   ]
  },
  {
   "cell_type": "code",
   "execution_count": null,
   "metadata": {},
   "outputs": [],
   "source": [
    "X2 = df_dau.loc[:, ['lag_dau']]\n",
    "\n",
    "# drop missing values in the feature set\n",
    "X2.dropna(inplace=True)  \n",
    "\n",
    "# create the target\n",
    "y2 = df_dau.loc[:, 'dau']  \n",
    "\n",
    "# drop corresponding values in target\n",
    "y2, X2 = y2.align(X2, join='inner')  \n",
    "\n",
    "model = LinearRegression()\n",
    "model.fit(X2, y2)\n",
    "\n",
    "y_pred2 = pd.Series(model.predict(X2), index=X2.index)"
   ]
  },
  {
   "cell_type": "markdown",
   "metadata": {},
   "source": [
    "The lag plot shows us how well we were able to fit the relationship between the number DAU one day and the number the previous day."
   ]
  },
  {
   "cell_type": "code",
   "execution_count": null,
   "metadata": {},
   "outputs": [],
   "source": [
    "fig, ax = plt.subplots()\n",
    "ax.plot(X2['lag_dau'], y2, '.', color='0.50')\n",
    "ax.plot(X2['lag_dau'], y_pred2)\n",
    "ax.set_aspect('equal')\n",
    "ax.set_ylabel('dau')\n",
    "ax.set_xlabel('lag_dau')\n",
    "ax.set_title('Lag Plot of Fitted Values of DAU (Daily Active Unique Users)')"
   ]
  },
  {
   "cell_type": "markdown",
   "metadata": {},
   "source": [
    "`The following time plot shows us how our forecasts now respond to the behavior of the series in the recent past`"
   ]
  },
  {
   "cell_type": "code",
   "execution_count": null,
   "metadata": {},
   "outputs": [],
   "source": [
    "ax = y2.plot(**plot_params)\n",
    "ax = y_pred2.plot()"
   ]
  },
  {
   "cell_type": "markdown",
   "metadata": {},
   "source": [
    "### Linear Regression with Orders"
   ]
  },
  {
   "cell_type": "markdown",
   "metadata": {},
   "source": [
    "`Time-step features for Orders`"
   ]
  },
  {
   "cell_type": "code",
   "execution_count": null,
   "metadata": {},
   "outputs": [],
   "source": [
    "fig, ax = plt.subplots()\n",
    "ax.plot('time', 'orders', data=df_dau, color='0.50')\n",
    "ax = sns.regplot(x='time', y='orders', data=df_dau, ci=None, scatter_kws=dict(color='0.75'))\n",
    "ax.set_title('Time plot of Number of Orders')"
   ]
  },
  {
   "cell_type": "markdown",
   "metadata": {},
   "source": [
    "`Lag feature of order Numbers`"
   ]
  },
  {
   "cell_type": "code",
   "execution_count": null,
   "metadata": {},
   "outputs": [],
   "source": [
    "fig, ax = plt.subplots()\n",
    "ax = sns.regplot(x='lag_orders', y='orders', data=df_dau, ci=None, scatter_kws=dict(color='0.75'))\n",
    "ax.set_aspect('equal')\n",
    "ax.set_title('Lag Plot of Number of Orders')"
   ]
  },
  {
   "cell_type": "markdown",
   "metadata": {},
   "source": [
    "`Linear Regression Model for Orders`"
   ]
  },
  {
   "cell_type": "code",
   "execution_count": null,
   "metadata": {},
   "outputs": [],
   "source": [
    "X_orders = df_dau.loc[:, ['time']] # feature\n",
    "y_orders = df_dau.loc[:, 'orders'] # target value\n",
    "\n",
    "# Train the model\n",
    "\n",
    "model = LinearRegression()\n",
    "model.fit(X_orders, y_orders)\n",
    "\n",
    "# Store the fitted values as a time series with the same time index as\n",
    "# the training data\n",
    "\n",
    "y_pred_orders = pd.Series(model.predict(X_orders), index=X_orders.index)"
   ]
  },
  {
   "cell_type": "code",
   "execution_count": null,
   "metadata": {},
   "outputs": [],
   "source": [
    "ax = y_orders.plot(**plot_params)\n",
    "ax = y_pred_orders.plot(ax=ax, linewidth=2)\n",
    "ax.set_title('Time Plot of Fitted values of Number of Orders')"
   ]
  },
  {
   "cell_type": "code",
   "execution_count": null,
   "metadata": {},
   "outputs": [],
   "source": [
    "X2_orders = df_dau.loc[:, ['lag_orders']]\n",
    "\n",
    "# drop missing values in the feature set\n",
    "X2_orders.dropna(inplace=True)  \n",
    "\n",
    "# create the target\n",
    "y2_orders = df_dau.loc[:, 'orders']  \n",
    "\n",
    "# drop corresponding values in target\n",
    "y2_orders, X2_orders = y2_orders.align(X2_orders, join='inner')  \n",
    "\n",
    "model = LinearRegression()\n",
    "model.fit(X2_orders, y2_orders)\n",
    "\n",
    "y_pred2_orders = pd.Series(model.predict(X2_orders), index=X2_orders.index)"
   ]
  },
  {
   "cell_type": "code",
   "execution_count": null,
   "metadata": {},
   "outputs": [],
   "source": [
    "fig, ax = plt.subplots()\n",
    "ax.plot(X2_orders['lag_orders'], y2_orders, '.', color='0.50')\n",
    "ax.plot(X2_orders['lag_orders'], y_pred2_orders)\n",
    "ax.set_aspect('equal')\n",
    "ax.set_ylabel('orders')\n",
    "ax.set_xlabel('lag_orders')\n",
    "ax.set_title('Lag Plot of Fitted Values of Number of Orders')"
   ]
  },
  {
   "cell_type": "code",
   "execution_count": null,
   "metadata": {},
   "outputs": [],
   "source": [
    "ax = y2_orders.plot(**plot_params)\n",
    "ax = y_pred2_orders.plot()"
   ]
  },
  {
   "cell_type": "markdown",
   "metadata": {},
   "source": [
    "## Trend\n",
    "\n",
    "Creating in accodings with the Kaggle tutorial:\n",
    "\n",
    "https://www.kaggle.com/code/ryanholbrook/trend"
   ]
  },
  {
   "cell_type": "markdown",
   "metadata": {},
   "source": [
    "`Moving Average Plots`\n",
    "\n",
    "The idea of mooving average is to smooth out any short-term fluctuations in the series so that only long-term changes remain.\n",
    "\n",
    "For the DAU and Order series, we chose a window of size 30 to smooth over the monthly period within 12 months."
   ]
  },
  {
   "cell_type": "code",
   "execution_count": null,
   "metadata": {},
   "outputs": [],
   "source": [
    "df_dau['moving_avg_30d_dau'] = df_dau['dau'].rolling(\n",
    "    window=30 # 7 days window\n",
    "    ,center=True # put the average at the center of the window\n",
    "    ,min_periods=30\n",
    ").mean()\n",
    "\n",
    "df_dau['moving_avg_30d_orders'] = df_dau['orders'].rolling(\n",
    "    window=30 # 7 days window\n",
    "    ,center=True # put the average at the center of the window\n",
    "    ,min_periods=30\n",
    ").mean()\n"
   ]
  },
  {
   "cell_type": "code",
   "execution_count": null,
   "metadata": {},
   "outputs": [],
   "source": [
    "df_dau.sample(5)"
   ]
  },
  {
   "cell_type": "code",
   "execution_count": null,
   "metadata": {},
   "outputs": [],
   "source": [
    "ax = df_dau['dau'].plot(style='', color='0.5')\n",
    "df_dau['moving_avg_30d_dau'].plot(\n",
    "    ax=ax\n",
    "    ,linewidth=2\n",
    "    ,title='DAU (Daily Active Users) - 30 days Moving Average'\n",
    "    ,legend=False\n",
    ")"
   ]
  },
  {
   "cell_type": "code",
   "execution_count": null,
   "metadata": {},
   "outputs": [],
   "source": [
    "ax = df_dau['orders'].plot(style='', color='0.5')\n",
    "df_dau['moving_avg_30d_orders'].plot(\n",
    "    ax=ax\n",
    "    ,linewidth=2\n",
    "    ,title='Numbers of Orders - 30 days Moving Average'\n",
    "    ,legend=False\n",
    ")"
   ]
  },
  {
   "cell_type": "code",
   "execution_count": null,
   "metadata": {},
   "outputs": [],
   "source": []
  },
  {
   "cell_type": "code",
   "execution_count": null,
   "metadata": {},
   "outputs": [],
   "source": []
  },
  {
   "cell_type": "code",
   "execution_count": null,
   "metadata": {},
   "outputs": [],
   "source": []
  },
  {
   "cell_type": "markdown",
   "metadata": {},
   "source": [
    "# End"
   ]
  },
  {
   "cell_type": "markdown",
   "metadata": {},
   "source": []
  }
 ],
 "metadata": {
  "kernelspec": {
   "display_name": "Python 3",
   "language": "python",
   "name": "python3"
  },
  "language_info": {
   "codemirror_mode": {
    "name": "ipython",
    "version": 3
   },
   "file_extension": ".py",
   "mimetype": "text/x-python",
   "name": "python",
   "nbconvert_exporter": "python",
   "pygments_lexer": "ipython3",
   "version": "3.9.16"
  },
  "orig_nbformat": 4
 },
 "nbformat": 4,
 "nbformat_minor": 2
}
